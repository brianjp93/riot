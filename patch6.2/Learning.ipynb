{
 "cells": [
  {
   "cell_type": "markdown",
   "metadata": {},
   "source": [
    "# Learning on League of Legends Data"
   ]
  },
  {
   "cell_type": "code",
   "execution_count": 6,
   "metadata": {
    "collapsed": false
   },
   "outputs": [
    {
     "name": "stderr",
     "output_type": "stream",
     "text": [
      "Vendor:  Continuum Analytics, Inc.\n",
      "Package: mkl\n",
      "Message: trial mode expires in 12 days\n"
     ]
    }
   ],
   "source": [
    "from __future__ import division\n",
    "import numpy as np\n",
    "import csv\n",
    "from sklearn.linear_model import SGDClassifier\n",
    "from sklearn.svm import SVC"
   ]
  },
  {
   "cell_type": "code",
   "execution_count": 7,
   "metadata": {
    "collapsed": false
   },
   "outputs": [],
   "source": [
    "def getData(filename):\n",
    "    features = []\n",
    "    x = []\n",
    "    y = []\n",
    "    with open(filename, \"r\") as f:\n",
    "        reader = csv.reader(f)\n",
    "        r = 0\n",
    "        for row in reader:\n",
    "            if r == 0:\n",
    "                features = row[1:-2]\n",
    "                r += 1\n",
    "                continue\n",
    "            x.append(list(map(int, row[1:-2])))\n",
    "            y.append(list(map(int, row[-2]))[0])\n",
    "#         features = x[0]\n",
    "    return np.array(features), np.array(x), np.array(y)"
   ]
  },
  {
   "cell_type": "code",
   "execution_count": 8,
   "metadata": {
    "collapsed": true
   },
   "outputs": [],
   "source": [
    "def testCorrect(trainsize, x, y):\n",
    "    correct = 0\n",
    "    for i, x1 in enumerate(x[trainsize:]):\n",
    "        ans = clf.predict([x1])\n",
    "    #     print(ans[0], int(y[trainsize + i]))\n",
    "        if int(ans[0]) == int(y[trainsize + i]):\n",
    "            correct += 1\n",
    "    print(\"{} of {}\".format(correct, len(x[trainsize:])))\n",
    "    print(correct/len(x[trainsize:]))"
   ]
  },
  {
   "cell_type": "code",
   "execution_count": 9,
   "metadata": {
    "collapsed": true
   },
   "outputs": [],
   "source": [
    "def getTopFeatures(clf, n):\n",
    "    indeces = clf.coef_[0].argsort()[-10:][::-1]\n",
    "    for ind in indeces:\n",
    "        print(clf.coef_[0][ind], features[ind])"
   ]
  },
  {
   "cell_type": "code",
   "execution_count": 10,
   "metadata": {
    "collapsed": true
   },
   "outputs": [],
   "source": [
    "def getWorstFeatures(clf, n):\n",
    "    indeces = clf.coef_[0].argsort()[:10]\n",
    "    for ind in indeces:\n",
    "        print(clf.coef_[0][ind], features[ind])"
   ]
  },
  {
   "cell_type": "markdown",
   "metadata": {},
   "source": [
    "\n",
    "### Diamond"
   ]
  },
  {
   "cell_type": "markdown",
   "metadata": {},
   "source": [
    "# Stochastic Gradient Descent"
   ]
  },
  {
   "cell_type": "code",
   "execution_count": 11,
   "metadata": {
    "collapsed": false
   },
   "outputs": [],
   "source": [
    "features, x, y = getData(\"diamond.csv\")\n",
    "trainsize = int(.8 * len(x))"
   ]
  },
  {
   "cell_type": "code",
   "execution_count": 12,
   "metadata": {
    "collapsed": false
   },
   "outputs": [
    {
     "data": {
      "text/plain": [
       "3017"
      ]
     },
     "execution_count": 12,
     "metadata": {},
     "output_type": "execute_result"
    }
   ],
   "source": [
    "len(x)"
   ]
  },
  {
   "cell_type": "code",
   "execution_count": 13,
   "metadata": {
    "collapsed": false
   },
   "outputs": [
    {
     "data": {
      "text/plain": [
       "SGDClassifier(alpha=0.0001, average=False, class_weight=None, epsilon=0.1,\n",
       "       eta0=0.0, fit_intercept=True, l1_ratio=0.15,\n",
       "       learning_rate='optimal', loss='log', n_iter=50, n_jobs=1,\n",
       "       penalty='l2', power_t=0.5, random_state=None, shuffle=True,\n",
       "       verbose=0, warm_start=False)"
      ]
     },
     "execution_count": 13,
     "metadata": {},
     "output_type": "execute_result"
    }
   ],
   "source": [
    "clf = SGDClassifier(loss=\"log\", penalty=\"l2\", n_iter=50)\n",
    "clf.fit(x[:trainsize], y[:trainsize])"
   ]
  },
  {
   "cell_type": "code",
   "execution_count": 14,
   "metadata": {
    "collapsed": false
   },
   "outputs": [
    {
     "name": "stdout",
     "output_type": "stream",
     "text": [
      "502 of 604\n",
      "0.831125827815\n"
     ]
    }
   ],
   "source": [
    "testCorrect(trainsize, x, y)"
   ]
  },
  {
   "cell_type": "code",
   "execution_count": 15,
   "metadata": {
    "collapsed": false
   },
   "outputs": [
    {
     "name": "stdout",
     "output_type": "stream",
     "text": [
      "(4.3079200245459868, 't100firstinhibitor')\n",
      "(3.1770429984117214, 't200:p9:champ110')\n",
      "(2.9859959172447637, 't200:p6:champ223')\n",
      "(2.7801233970130323, 't100:p3:champ91')\n",
      "(2.4727813911553294, 't100:p5:champ78')\n",
      "(2.4045464522461693, 't100:p3:champ77')\n",
      "(2.3863047352468585, 't200:p7:champ76')\n",
      "(2.3311039009310988, 't100:p1:champ57')\n",
      "(2.2438580293218555, 't200:p8:champ77')\n",
      "(2.1278318895829869, 't200:p10:champ254')\n"
     ]
    }
   ],
   "source": [
    "getTopFeatures(clf, 10)"
   ]
  },
  {
   "cell_type": "markdown",
   "metadata": {},
   "source": [
    "The SGD algorithm put the largest weight on who took first tower, which makes a lot of sense, but I'm surprised it isn't something else, like first baron, or inhibitor."
   ]
  },
  {
   "cell_type": "markdown",
   "metadata": {},
   "source": [
    "# Support Vector Machine"
   ]
  },
  {
   "cell_type": "code",
   "execution_count": 21,
   "metadata": {
    "collapsed": false
   },
   "outputs": [
    {
     "data": {
      "text/plain": [
       "SVC(C=1.0, cache_size=200, class_weight=None, coef0=0.0,\n",
       "  decision_function_shape=None, degree=3, gamma='auto', kernel='linear',\n",
       "  max_iter=-1, probability=False, random_state=None, shrinking=True,\n",
       "  tol=0.001, verbose=False)"
      ]
     },
     "execution_count": 21,
     "metadata": {},
     "output_type": "execute_result"
    }
   ],
   "source": [
    "clf = SVC(kernel=\"linear\")\n",
    "clf.fit(x, y)"
   ]
  },
  {
   "cell_type": "code",
   "execution_count": 22,
   "metadata": {
    "collapsed": false
   },
   "outputs": [
    {
     "name": "stdout",
     "output_type": "stream",
     "text": [
      "589 of 604\n",
      "0.975165562914\n"
     ]
    }
   ],
   "source": [
    "testCorrect(trainsize, x, y)"
   ]
  },
  {
   "cell_type": "markdown",
   "metadata": {},
   "source": [
    "The SVM was way slower, but with almost perfect predictions"
   ]
  },
  {
   "cell_type": "code",
   "execution_count": 23,
   "metadata": {
    "collapsed": false
   },
   "outputs": [
    {
     "name": "stdout",
     "output_type": "stream",
     "text": [
      "(1.7465775795365692, 't100firsttower')\n",
      "(1.4068040538306388, 't100:p1:champ91')\n",
      "(1.3640275072050074, 't100:p3:champ90')\n",
      "(1.2641980920968474, 't200:p6:champ222')\n",
      "(1.2559923791942502, 't200:p6:champ22')\n",
      "(1.2337688509449767, 't200:p8:spell232')\n",
      "(1.2187162597646937, 't100:p1:champ56')\n",
      "(1.2082441027740243, 't200:p8:champ49')\n",
      "(1.1736835081241792, 't200:p8:champ88')\n",
      "(1.1468130584329403, 't200:p9:champ30')\n"
     ]
    }
   ],
   "source": [
    "getTopFeatures(clf, 10)"
   ]
  },
  {
   "cell_type": "markdown",
   "metadata": {},
   "source": [
    "### Bronze"
   ]
  },
  {
   "cell_type": "markdown",
   "metadata": {},
   "source": [
    "# SGD"
   ]
  },
  {
   "cell_type": "code",
   "execution_count": 16,
   "metadata": {
    "collapsed": true
   },
   "outputs": [],
   "source": [
    "features, x, y = getData(\"bronze.csv\")\n",
    "trainsize = int(.8 * len(x))"
   ]
  },
  {
   "cell_type": "code",
   "execution_count": 17,
   "metadata": {
    "collapsed": false
   },
   "outputs": [
    {
     "data": {
      "text/plain": [
       "SGDClassifier(alpha=0.0001, average=False, class_weight=None, epsilon=0.1,\n",
       "       eta0=0.0, fit_intercept=True, l1_ratio=0.15,\n",
       "       learning_rate='optimal', loss='log', n_iter=50, n_jobs=1,\n",
       "       penalty='l2', power_t=0.5, random_state=None, shuffle=True,\n",
       "       verbose=0, warm_start=False)"
      ]
     },
     "execution_count": 17,
     "metadata": {},
     "output_type": "execute_result"
    }
   ],
   "source": [
    "clf = SGDClassifier(loss=\"log\", penalty=\"l2\", n_iter=50)\n",
    "clf.fit(x[:trainsize], y[:trainsize])"
   ]
  },
  {
   "cell_type": "code",
   "execution_count": 18,
   "metadata": {
    "collapsed": false
   },
   "outputs": [
    {
     "name": "stdout",
     "output_type": "stream",
     "text": [
      "103 of 122\n",
      "0.844262295082\n"
     ]
    }
   ],
   "source": [
    "testCorrect(trainsize, x, y)"
   ]
  },
  {
   "cell_type": "code",
   "execution_count": 19,
   "metadata": {
    "collapsed": false
   },
   "outputs": [
    {
     "name": "stdout",
     "output_type": "stream",
     "text": [
      "(7.6022716603335905, 't100firstinhibitor')\n",
      "(3.9800115921041614, 't100firstbaron')\n",
      "(3.0540862893988652, 't100:p1:champ75')\n",
      "(2.8845837015081846, 't100:p3:champ421')\n",
      "(2.4179736586344256, 't200:p10:champ236')\n",
      "(2.4178146777537397, 't200:p9:spell211')\n",
      "(2.3346093816353966, 't100:p2:champ268')\n",
      "(2.3201373101404923, 't200:p6:champ33')\n",
      "(2.3074999088060997, 't200:p6:champ64')\n",
      "(2.2242731607977362, 't200:p10:champ63')\n"
     ]
    }
   ],
   "source": [
    "getTopFeatures(clf, 10)"
   ]
  },
  {
   "cell_type": "markdown",
   "metadata": {},
   "source": [
    "# SVM"
   ]
  },
  {
   "cell_type": "code",
   "execution_count": 20,
   "metadata": {
    "collapsed": false
   },
   "outputs": [
    {
     "data": {
      "text/plain": [
       "SVC(C=1.0, cache_size=200, class_weight=None, coef0=0.0,\n",
       "  decision_function_shape=None, degree=3, gamma='auto', kernel='linear',\n",
       "  max_iter=-1, probability=False, random_state=None, shrinking=True,\n",
       "  tol=0.001, verbose=False)"
      ]
     },
     "execution_count": 20,
     "metadata": {},
     "output_type": "execute_result"
    }
   ],
   "source": [
    "clf = SVC(kernel=\"linear\")\n",
    "clf.fit(x, y)"
   ]
  },
  {
   "cell_type": "code",
   "execution_count": 21,
   "metadata": {
    "collapsed": false
   },
   "outputs": [
    {
     "name": "stdout",
     "output_type": "stream",
     "text": [
      "122 of 122\n",
      "1.0\n"
     ]
    }
   ],
   "source": [
    "testCorrect(trainsize, x, y)"
   ]
  },
  {
   "cell_type": "code",
   "execution_count": 22,
   "metadata": {
    "collapsed": false
   },
   "outputs": [
    {
     "name": "stdout",
     "output_type": "stream",
     "text": [
      "(0.93895450590366503, 't100firstinhibitor')\n",
      "(0.58420703478535874, 't100:p3:champ421')\n",
      "(0.56132346159532798, 't200:p6:champ33')\n",
      "(0.48592351565329556, 't100:p4:champ203')\n",
      "(0.48081343823012712, 't200:p9:champ103')\n",
      "(0.48046295930944088, 't200:p10:champ63')\n",
      "(0.44448225458723811, 't200:p10:champ236')\n",
      "(0.44075905699406204, 't100firstbaron')\n",
      "(0.43372511984986006, 't100:p4:champ236')\n",
      "(0.42939849589842083, 't100:p2:champ268')\n"
     ]
    }
   ],
   "source": [
    "getTopFeatures(clf, 10)"
   ]
  },
  {
   "cell_type": "code",
   "execution_count": 23,
   "metadata": {
    "collapsed": false
   },
   "outputs": [
    {
     "name": "stdout",
     "output_type": "stream",
     "text": [
      "(-0.74804227413276081, 't200firstinhibitor')\n",
      "(-0.5018316274683674, 't100:p3:champ238')\n",
      "(-0.45115502398830204, 't200:p8:champ51')\n",
      "(-0.42820934627212814, 't200:p6:champ98')\n",
      "(-0.41096143862446533, 't100:p4:champ222')\n",
      "(-0.39544300484856854, 't100:p5:champ236')\n",
      "(-0.39085578723990111, 't200firstriftherald')\n",
      "(-0.37577918076775307, 't200:p10:champ114')\n",
      "(-0.36265654142910947, 't100:p3:champ10')\n",
      "(-0.35892139846849508, 't100:p5:champ201')\n"
     ]
    }
   ],
   "source": [
    "getWorstFeatures(clf, 10)"
   ]
  },
  {
   "cell_type": "markdown",
   "metadata": {},
   "source": [
    "### Challenger"
   ]
  },
  {
   "cell_type": "code",
   "execution_count": 32,
   "metadata": {
    "collapsed": true
   },
   "outputs": [],
   "source": [
    "features, x, y = getData(\"challenger.csv\")\n",
    "trainsize = int(.8 * len(x))"
   ]
  },
  {
   "cell_type": "code",
   "execution_count": 33,
   "metadata": {
    "collapsed": false
   },
   "outputs": [
    {
     "data": {
      "text/plain": [
       "SGDClassifier(alpha=0.0001, average=False, class_weight=None, epsilon=0.1,\n",
       "       eta0=0.0, fit_intercept=True, l1_ratio=0.15,\n",
       "       learning_rate='optimal', loss='log', n_iter=50, n_jobs=1,\n",
       "       penalty='l2', power_t=0.5, random_state=None, shuffle=True,\n",
       "       verbose=0, warm_start=False)"
      ]
     },
     "execution_count": 33,
     "metadata": {},
     "output_type": "execute_result"
    }
   ],
   "source": [
    "clf = SGDClassifier(loss=\"log\", penalty=\"l2\", n_iter=50)\n",
    "clf.fit(x[:trainsize], y[:trainsize])"
   ]
  },
  {
   "cell_type": "code",
   "execution_count": 34,
   "metadata": {
    "collapsed": false
   },
   "outputs": [
    {
     "name": "stdout",
     "output_type": "stream",
     "text": [
      "171 of 198\n",
      "0.863636363636\n"
     ]
    }
   ],
   "source": [
    "testCorrect(trainsize, x, y)"
   ]
  },
  {
   "cell_type": "code",
   "execution_count": 35,
   "metadata": {
    "collapsed": false
   },
   "outputs": [
    {
     "name": "stdout",
     "output_type": "stream",
     "text": [
      "(6.0694348355002958, 't100firsttower')\n",
      "(3.8255868820643735, 't200:p10:spell232')\n",
      "(2.8220233327997537, 't200:p9:champ75')\n",
      "(2.7126666703425379, 't100:p5:champ244')\n",
      "(2.4582815256772341, 't200:p7:champ202')\n",
      "(2.3320826863313511, 't200:p6:champ41')\n",
      "(2.2738707524524626, 't100:p3:champ104')\n",
      "(2.2168316264238834, 't200:p8:champ59')\n",
      "(2.2016336899961946, 't100:p1:champ420')\n",
      "(2.1587471009361328, 't200:p8:champ222')\n"
     ]
    }
   ],
   "source": [
    "getTopFeatures(clf, 10)"
   ]
  },
  {
   "cell_type": "code",
   "execution_count": 36,
   "metadata": {
    "collapsed": false
   },
   "outputs": [
    {
     "name": "stdout",
     "output_type": "stream",
     "text": [
      "(-4.1221418926230529, 't200firsttower')\n",
      "(-2.8426305444352851, 't100firstblood')\n",
      "(-2.646924995639893, 't200:p9:champ91')\n",
      "(-2.4515796696460979, 't100:p1:champ237')\n",
      "(-2.4170192328829945, 't100:p4:spell22')\n",
      "(-2.1920659162433256, 't100:p1:champ40')\n",
      "(-2.0185531143594395, 't200:p10:champ132')\n",
      "(-2.0002442498575821, 't100:p2:champ75')\n",
      "(-1.991718603711496, 't100:p4:champ130')\n",
      "(-1.9072903915780279, 't100:p1:champ201')\n"
     ]
    }
   ],
   "source": [
    "getWorstFeatures(clf, 10)"
   ]
  },
  {
   "cell_type": "markdown",
   "metadata": {},
   "source": [
    "# SVM"
   ]
  },
  {
   "cell_type": "code",
   "execution_count": 37,
   "metadata": {
    "collapsed": false
   },
   "outputs": [
    {
     "data": {
      "text/plain": [
       "SVC(C=1.0, cache_size=200, class_weight=None, coef0=0.0,\n",
       "  decision_function_shape=None, degree=3, gamma='auto', kernel='linear',\n",
       "  max_iter=-1, probability=False, random_state=None, shrinking=True,\n",
       "  tol=0.001, verbose=False)"
      ]
     },
     "execution_count": 37,
     "metadata": {},
     "output_type": "execute_result"
    }
   ],
   "source": [
    "clf = SVC(kernel=\"linear\")\n",
    "clf.fit(x, y)"
   ]
  },
  {
   "cell_type": "code",
   "execution_count": 38,
   "metadata": {
    "collapsed": false
   },
   "outputs": [
    {
     "name": "stdout",
     "output_type": "stream",
     "text": [
      "198 of 198\n",
      "1.0\n"
     ]
    }
   ],
   "source": [
    "testCorrect(trainsize, x, y)"
   ]
  },
  {
   "cell_type": "code",
   "execution_count": 39,
   "metadata": {
    "collapsed": false
   },
   "outputs": [
    {
     "name": "stdout",
     "output_type": "stream",
     "text": [
      "(1.3418352903279653, 't100firsttower')\n",
      "(0.89170317545111133, 't200:p7:champ202')\n",
      "(0.66010965767307306, 't100:p3:champ104')\n",
      "(0.65505864519926926, 't100:p5:champ244')\n",
      "(0.63362494884247922, 't200:p9:champ75')\n",
      "(0.62968350720651989, 't200:p10:spell232')\n",
      "(0.60699710069900403, 't200:p6:champ201')\n",
      "(0.59968610631808938, 't200:p7:champ27')\n",
      "(0.59132766970157635, 't200:p8:champ222')\n",
      "(0.5655781457316349, 't100:p1:champ47')\n"
     ]
    }
   ],
   "source": [
    "getTopFeatures(clf, 10)"
   ]
  },
  {
   "cell_type": "code",
   "execution_count": null,
   "metadata": {
    "collapsed": true
   },
   "outputs": [],
   "source": []
  }
 ],
 "metadata": {
  "kernelspec": {
   "display_name": "Python 2",
   "language": "python",
   "name": "python2"
  },
  "language_info": {
   "codemirror_mode": {
    "name": "ipython",
    "version": 2
   },
   "file_extension": ".py",
   "mimetype": "text/x-python",
   "name": "python",
   "nbconvert_exporter": "python",
   "pygments_lexer": "ipython2",
   "version": "2.7.11"
  }
 },
 "nbformat": 4,
 "nbformat_minor": 0
}
