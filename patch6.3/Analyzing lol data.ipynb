{
 "cells": [
  {
   "cell_type": "markdown",
   "metadata": {},
   "source": [
    "# Analyzing Spells Bound to D or F"
   ]
  },
  {
   "cell_type": "markdown",
   "metadata": {},
   "source": [
    "First we have to import some modules and define some functions"
   ]
  },
  {
   "cell_type": "code",
   "execution_count": 2,
   "metadata": {
    "collapsed": false
   },
   "outputs": [],
   "source": [
    "from __future__ import division\n",
    "import csv\n",
    "import numpy as np\n",
    "import matplotlib.pyplot as plt\n",
    "from matplotlib.gridspec import GridSpec\n",
    "import seaborn as sns\n",
    "% matplotlib inline"
   ]
  },
  {
   "cell_type": "code",
   "execution_count": 3,
   "metadata": {
    "collapsed": true
   },
   "outputs": [],
   "source": [
    "spells = {1: u'Cleanse',\n",
    " 2: u'Clairvoyance',\n",
    " 3: u'Exhaust',\n",
    " 4: u'Flash',\n",
    " 6: u'Ghost',\n",
    " 7: u'Heal',\n",
    " 11: u'Smite',\n",
    " 12: u'Teleport',\n",
    " 13: u'Clarity',\n",
    " 14: u'Ignite',\n",
    " 17: u'Garrison',\n",
    " 21: u'Barrier',\n",
    " 30: u'To the King!',\n",
    " 31: u'Poro Toss',\n",
    " 32: u'Mark'}"
   ]
  },
  {
   "cell_type": "code",
   "execution_count": 4,
   "metadata": {
    "collapsed": true
   },
   "outputs": [],
   "source": [
    "def getData(filename):\n",
    "    features = []\n",
    "    x = []\n",
    "    y = []\n",
    "    with open(filename, \"r\") as f:\n",
    "        reader = csv.reader(f)\n",
    "        for row in reader:\n",
    "            x.append(row[:-2])\n",
    "            y.append(row[-2:])\n",
    "        features = x[0]\n",
    "        x = x[1:]\n",
    "        y = y[1:]\n",
    "    return np.array(features), np.array(x), np.array(y)"
   ]
  },
  {
   "cell_type": "code",
   "execution_count": 5,
   "metadata": {
    "collapsed": true
   },
   "outputs": [],
   "source": [
    "def countSpells(features, x, y, spells):\n",
    "    \"\"\"\n",
    "    \"\"\"\n",
    "    dkey = {}\n",
    "    fkey = {}\n",
    "    if int(y[0]) == 1:\n",
    "        win = {\"t100\": True, \"t200\": False}\n",
    "    else:\n",
    "        win = {\"t100\": False, \"t200\": True}\n",
    "    for i, feature in enumerate(features):\n",
    "        if \"spell1\" in feature and x[i] == \"1\":\n",
    "            f = feature.split(\":spell1\")\n",
    "            team = f[0].split(\":\")[0]\n",
    "            spell = spells[int(f[1])]\n",
    "            if spell in dkey:\n",
    "                dkey[spell][0] += 1\n",
    "                if win[team]:\n",
    "                    dkey[spell][1] += 1\n",
    "            else:\n",
    "                if win[team]:\n",
    "                    dkey[spell] = [1, 1]\n",
    "                else:\n",
    "                    dkey[spell] = [1, 0]\n",
    "        elif \"spell2\" in feature and x[i] == \"1\":\n",
    "            f = feature.split(\":spell2\")\n",
    "            team = f[0].split(\":\")[0]\n",
    "            spell = spells[int(f[1])]\n",
    "            if spell in fkey:\n",
    "                fkey[spell][0] += 1\n",
    "                if win[team]:\n",
    "                    fkey[spell][1] += 1\n",
    "            else:\n",
    "                if win[team]:\n",
    "                    fkey[spell] = [1, 1]\n",
    "                else:\n",
    "                    fkey[spell] = [1, 0]\n",
    "    return dkey, fkey"
   ]
  },
  {
   "cell_type": "code",
   "execution_count": 6,
   "metadata": {
    "collapsed": true
   },
   "outputs": [],
   "source": [
    "def getSpellCount(features, x, y, spells):\n",
    "    dkey = {}\n",
    "    fkey = {}\n",
    "    for i, row in enumerate(x):\n",
    "        dup, fup = countSpells(features, row, y[i], spells)\n",
    "        for key in dup:\n",
    "            if key not in dkey:\n",
    "                dkey[key] = dup[key]\n",
    "            else:\n",
    "                dkey[key][0] += dup[key][0]\n",
    "                dkey[key][1] += dup[key][1]\n",
    "        for key in fup:\n",
    "            if key not in fkey:\n",
    "                fkey[key] = fup[key]\n",
    "            else:\n",
    "                fkey[key][0] += fup[key][0]\n",
    "                fkey[key][1] += fup[key][1]\n",
    "    return dkey, fkey"
   ]
  },
  {
   "cell_type": "code",
   "execution_count": 7,
   "metadata": {
    "collapsed": true
   },
   "outputs": [],
   "source": [
    "def getTotals(dkey, fkey):\n",
    "    dtotals = []\n",
    "    dwins = []\n",
    "    for key in dkey.keys():\n",
    "        dtotals.append(dkey[key][0])\n",
    "        dwins.append(dkey[key][1])\n",
    "    ftotals = []\n",
    "    fwins = []\n",
    "    for key in dkey.keys():\n",
    "        ftotals.append(fkey[key][0])\n",
    "        fwins.append(fkey[key][1])\n",
    "    return dtotals, dwins, ftotals, fwins"
   ]
  },
  {
   "cell_type": "code",
   "execution_count": 8,
   "metadata": {
    "collapsed": true
   },
   "outputs": [],
   "source": [
    "def plotData(dtotals, dwins, ftotals, fwins):\n",
    "    numspells = np.arange(len(dkey))\n",
    "    width = .4\n",
    "\n",
    "    fig, ax = plt.subplots(figsize=(11, 7))\n",
    "    rects1 = ax.bar(numspells, dtotals, width, color=\"#1a1aff\")\n",
    "\n",
    "    rects2 = ax.bar(numspells, dwins, width, color=\"#0066ff\")\n",
    "\n",
    "    rects3 = ax.bar(numspells + width, ftotals, width, color=\"#9966ff\")\n",
    "\n",
    "    rects4 = ax.bar(numspells + width, fwins, width, color=\"#9999ff\")\n",
    "\n",
    "    ax.set_ylabel(\"Games\")\n",
    "    ax.set_title(\"Spells on D vs F\")\n",
    "    ax.set_xticks(numspells + width)\n",
    "    ax.set_xticklabels([x for x in dkey])\n",
    "\n",
    "    a = ax.legend((rects1[0], rects2[0], rects3[0], rects4[0]), (\"Spell on D\", \"Wins on D\", \"Spell on F\", \"Win on F\"))"
   ]
  },
  {
   "cell_type": "code",
   "execution_count": 9,
   "metadata": {
    "collapsed": false
   },
   "outputs": [],
   "source": [
    "def printStats(dkey, fkey):\n",
    "    for s in dkey:\n",
    "        print(\"{}{} -> D: {}%, F: {}%\".format(s.replace(\"Summoner\", \"\"), \" \"*(10 - len(s.replace(\"Summoner\", \"\"))), round(dkey[s][1]/dkey[s][0]*100, 1), round(fkey[s][1]/fkey[s][0]*100, 1)))"
   ]
  },
  {
   "cell_type": "markdown",
   "metadata": {},
   "source": [
    "# Bronze"
   ]
  },
  {
   "cell_type": "code",
   "execution_count": 10,
   "metadata": {
    "collapsed": false,
    "scrolled": false
   },
   "outputs": [
    {
     "ename": "KeyError",
     "evalue": "u'Ghost'",
     "output_type": "error",
     "traceback": [
      "\u001b[1;31m---------------------------------------------------------------------------\u001b[0m",
      "\u001b[1;31mKeyError\u001b[0m                                  Traceback (most recent call last)",
      "\u001b[1;32m<ipython-input-10-795a53375274>\u001b[0m in \u001b[0;36m<module>\u001b[1;34m()\u001b[0m\n\u001b[0;32m      1\u001b[0m \u001b[0mbfeatures\u001b[0m\u001b[1;33m,\u001b[0m \u001b[0mbx\u001b[0m\u001b[1;33m,\u001b[0m \u001b[0mby\u001b[0m \u001b[1;33m=\u001b[0m \u001b[0mgetData\u001b[0m\u001b[1;33m(\u001b[0m\u001b[1;34m\"bronze.csv\"\u001b[0m\u001b[1;33m)\u001b[0m\u001b[1;33m\u001b[0m\u001b[0m\n\u001b[0;32m      2\u001b[0m \u001b[0mdkey\u001b[0m\u001b[1;33m,\u001b[0m \u001b[0mfkey\u001b[0m \u001b[1;33m=\u001b[0m \u001b[0mgetSpellCount\u001b[0m\u001b[1;33m(\u001b[0m\u001b[0mbfeatures\u001b[0m\u001b[1;33m,\u001b[0m \u001b[0mbx\u001b[0m\u001b[1;33m,\u001b[0m \u001b[0mby\u001b[0m\u001b[1;33m,\u001b[0m \u001b[0mspells\u001b[0m\u001b[1;33m)\u001b[0m\u001b[1;33m\u001b[0m\u001b[0m\n\u001b[1;32m----> 3\u001b[1;33m \u001b[0mdtotals\u001b[0m\u001b[1;33m,\u001b[0m \u001b[0mdwins\u001b[0m\u001b[1;33m,\u001b[0m \u001b[0mftotals\u001b[0m\u001b[1;33m,\u001b[0m \u001b[0mfwins\u001b[0m \u001b[1;33m=\u001b[0m \u001b[0mgetTotals\u001b[0m\u001b[1;33m(\u001b[0m\u001b[0mdkey\u001b[0m\u001b[1;33m,\u001b[0m \u001b[0mfkey\u001b[0m\u001b[1;33m)\u001b[0m\u001b[1;33m\u001b[0m\u001b[0m\n\u001b[0m\u001b[0;32m      4\u001b[0m \u001b[0mplotData\u001b[0m\u001b[1;33m(\u001b[0m\u001b[0mdtotals\u001b[0m\u001b[1;33m,\u001b[0m \u001b[0mdwins\u001b[0m\u001b[1;33m,\u001b[0m \u001b[0mftotals\u001b[0m\u001b[1;33m,\u001b[0m \u001b[0mfwins\u001b[0m\u001b[1;33m)\u001b[0m\u001b[1;33m\u001b[0m\u001b[0m\n",
      "\u001b[1;32m<ipython-input-7-d7f09b13062a>\u001b[0m in \u001b[0;36mgetTotals\u001b[1;34m(dkey, fkey)\u001b[0m\n\u001b[0;32m      8\u001b[0m     \u001b[0mfwins\u001b[0m \u001b[1;33m=\u001b[0m \u001b[1;33m[\u001b[0m\u001b[1;33m]\u001b[0m\u001b[1;33m\u001b[0m\u001b[0m\n\u001b[0;32m      9\u001b[0m     \u001b[1;32mfor\u001b[0m \u001b[0mkey\u001b[0m \u001b[1;32min\u001b[0m \u001b[0mdkey\u001b[0m\u001b[1;33m.\u001b[0m\u001b[0mkeys\u001b[0m\u001b[1;33m(\u001b[0m\u001b[1;33m)\u001b[0m\u001b[1;33m:\u001b[0m\u001b[1;33m\u001b[0m\u001b[0m\n\u001b[1;32m---> 10\u001b[1;33m         \u001b[0mftotals\u001b[0m\u001b[1;33m.\u001b[0m\u001b[0mappend\u001b[0m\u001b[1;33m(\u001b[0m\u001b[0mfkey\u001b[0m\u001b[1;33m[\u001b[0m\u001b[0mkey\u001b[0m\u001b[1;33m]\u001b[0m\u001b[1;33m[\u001b[0m\u001b[1;36m0\u001b[0m\u001b[1;33m]\u001b[0m\u001b[1;33m)\u001b[0m\u001b[1;33m\u001b[0m\u001b[0m\n\u001b[0m\u001b[0;32m     11\u001b[0m         \u001b[0mfwins\u001b[0m\u001b[1;33m.\u001b[0m\u001b[0mappend\u001b[0m\u001b[1;33m(\u001b[0m\u001b[0mfkey\u001b[0m\u001b[1;33m[\u001b[0m\u001b[0mkey\u001b[0m\u001b[1;33m]\u001b[0m\u001b[1;33m[\u001b[0m\u001b[1;36m1\u001b[0m\u001b[1;33m]\u001b[0m\u001b[1;33m)\u001b[0m\u001b[1;33m\u001b[0m\u001b[0m\n\u001b[0;32m     12\u001b[0m     \u001b[1;32mreturn\u001b[0m \u001b[0mdtotals\u001b[0m\u001b[1;33m,\u001b[0m \u001b[0mdwins\u001b[0m\u001b[1;33m,\u001b[0m \u001b[0mftotals\u001b[0m\u001b[1;33m,\u001b[0m \u001b[0mfwins\u001b[0m\u001b[1;33m\u001b[0m\u001b[0m\n",
      "\u001b[1;31mKeyError\u001b[0m: u'Ghost'"
     ]
    }
   ],
   "source": [
    "bfeatures, bx, by = getData(\"bronze.csv\")\n",
    "dkey, fkey = getSpellCount(bfeatures, bx, by, spells)\n",
    "dtotals, dwins, ftotals, fwins = getTotals(dkey, fkey)\n",
    "plotData(dtotals, dwins, ftotals, fwins)"
   ]
  },
  {
   "cell_type": "code",
   "execution_count": 17,
   "metadata": {
    "collapsed": false
   },
   "outputs": [
    {
     "data": {
      "text/plain": [
       "array([['1668', '0', '0', ..., '0', '0', '0'],\n",
       "       ['2330', '0', '0', ..., '1', '0', '0'],\n",
       "       ['2087', '0', '0', ..., '0', '0', '0'],\n",
       "       ..., \n",
       "       ['2910', '0', '0', ..., '0', '0', '1'],\n",
       "       ['1788', '1', '0', ..., '1', '0', '0'],\n",
       "       ['2397', '0', '0', ..., '0', '0', '1']], \n",
       "      dtype='|S4')"
      ]
     },
     "execution_count": 17,
     "metadata": {},
     "output_type": "execute_result"
    }
   ],
   "source": [
    "bx"
   ]
  },
  {
   "cell_type": "code",
   "execution_count": 15,
   "metadata": {
    "collapsed": false
   },
   "outputs": [
    {
     "data": {
      "text/plain": [
       "{}"
      ]
     },
     "execution_count": 15,
     "metadata": {},
     "output_type": "execute_result"
    }
   ],
   "source": [
    "fkey"
   ]
  },
  {
   "cell_type": "code",
   "execution_count": 11,
   "metadata": {
    "collapsed": false,
    "scrolled": true
   },
   "outputs": [
    {
     "ename": "KeyError",
     "evalue": "u'Ghost'",
     "output_type": "error",
     "traceback": [
      "\u001b[1;31m---------------------------------------------------------------------------\u001b[0m",
      "\u001b[1;31mKeyError\u001b[0m                                  Traceback (most recent call last)",
      "\u001b[1;32m<ipython-input-11-7641e5ae49cb>\u001b[0m in \u001b[0;36m<module>\u001b[1;34m()\u001b[0m\n\u001b[1;32m----> 1\u001b[1;33m \u001b[0mprintStats\u001b[0m\u001b[1;33m(\u001b[0m\u001b[0mdkey\u001b[0m\u001b[1;33m,\u001b[0m \u001b[0mfkey\u001b[0m\u001b[1;33m)\u001b[0m\u001b[1;33m\u001b[0m\u001b[0m\n\u001b[0m",
      "\u001b[1;32m<ipython-input-9-55d2fc390695>\u001b[0m in \u001b[0;36mprintStats\u001b[1;34m(dkey, fkey)\u001b[0m\n\u001b[0;32m      1\u001b[0m \u001b[1;32mdef\u001b[0m \u001b[0mprintStats\u001b[0m\u001b[1;33m(\u001b[0m\u001b[0mdkey\u001b[0m\u001b[1;33m,\u001b[0m \u001b[0mfkey\u001b[0m\u001b[1;33m)\u001b[0m\u001b[1;33m:\u001b[0m\u001b[1;33m\u001b[0m\u001b[0m\n\u001b[0;32m      2\u001b[0m     \u001b[1;32mfor\u001b[0m \u001b[0ms\u001b[0m \u001b[1;32min\u001b[0m \u001b[0mdkey\u001b[0m\u001b[1;33m:\u001b[0m\u001b[1;33m\u001b[0m\u001b[0m\n\u001b[1;32m----> 3\u001b[1;33m         \u001b[1;32mprint\u001b[0m\u001b[1;33m(\u001b[0m\u001b[1;34m\"{}{} -> D: {}%, F: {}%\"\u001b[0m\u001b[1;33m.\u001b[0m\u001b[0mformat\u001b[0m\u001b[1;33m(\u001b[0m\u001b[0ms\u001b[0m\u001b[1;33m.\u001b[0m\u001b[0mreplace\u001b[0m\u001b[1;33m(\u001b[0m\u001b[1;34m\"Summoner\"\u001b[0m\u001b[1;33m,\u001b[0m \u001b[1;34m\"\"\u001b[0m\u001b[1;33m)\u001b[0m\u001b[1;33m,\u001b[0m \u001b[1;34m\" \"\u001b[0m\u001b[1;33m*\u001b[0m\u001b[1;33m(\u001b[0m\u001b[1;36m10\u001b[0m \u001b[1;33m-\u001b[0m \u001b[0mlen\u001b[0m\u001b[1;33m(\u001b[0m\u001b[0ms\u001b[0m\u001b[1;33m.\u001b[0m\u001b[0mreplace\u001b[0m\u001b[1;33m(\u001b[0m\u001b[1;34m\"Summoner\"\u001b[0m\u001b[1;33m,\u001b[0m \u001b[1;34m\"\"\u001b[0m\u001b[1;33m)\u001b[0m\u001b[1;33m)\u001b[0m\u001b[1;33m)\u001b[0m\u001b[1;33m,\u001b[0m \u001b[0mround\u001b[0m\u001b[1;33m(\u001b[0m\u001b[0mdkey\u001b[0m\u001b[1;33m[\u001b[0m\u001b[0ms\u001b[0m\u001b[1;33m]\u001b[0m\u001b[1;33m[\u001b[0m\u001b[1;36m1\u001b[0m\u001b[1;33m]\u001b[0m\u001b[1;33m/\u001b[0m\u001b[0mdkey\u001b[0m\u001b[1;33m[\u001b[0m\u001b[0ms\u001b[0m\u001b[1;33m]\u001b[0m\u001b[1;33m[\u001b[0m\u001b[1;36m0\u001b[0m\u001b[1;33m]\u001b[0m\u001b[1;33m*\u001b[0m\u001b[1;36m100\u001b[0m\u001b[1;33m,\u001b[0m \u001b[1;36m1\u001b[0m\u001b[1;33m)\u001b[0m\u001b[1;33m,\u001b[0m \u001b[0mround\u001b[0m\u001b[1;33m(\u001b[0m\u001b[0mfkey\u001b[0m\u001b[1;33m[\u001b[0m\u001b[0ms\u001b[0m\u001b[1;33m]\u001b[0m\u001b[1;33m[\u001b[0m\u001b[1;36m1\u001b[0m\u001b[1;33m]\u001b[0m\u001b[1;33m/\u001b[0m\u001b[0mfkey\u001b[0m\u001b[1;33m[\u001b[0m\u001b[0ms\u001b[0m\u001b[1;33m]\u001b[0m\u001b[1;33m[\u001b[0m\u001b[1;36m0\u001b[0m\u001b[1;33m]\u001b[0m\u001b[1;33m*\u001b[0m\u001b[1;36m100\u001b[0m\u001b[1;33m,\u001b[0m \u001b[1;36m1\u001b[0m\u001b[1;33m)\u001b[0m\u001b[1;33m)\u001b[0m\u001b[1;33m)\u001b[0m\u001b[1;33m\u001b[0m\u001b[0m\n\u001b[0m",
      "\u001b[1;31mKeyError\u001b[0m: u'Ghost'"
     ]
    }
   ],
   "source": [
    "printStats(dkey, fkey)"
   ]
  },
  {
   "cell_type": "markdown",
   "metadata": {},
   "source": [
    "# Silver"
   ]
  },
  {
   "cell_type": "code",
   "execution_count": 16,
   "metadata": {
    "collapsed": false
   },
   "outputs": [
    {
     "ename": "IndexError",
     "evalue": "list index out of range",
     "output_type": "error",
     "traceback": [
      "\u001b[1;31m---------------------------------------------------------------------------\u001b[0m",
      "\u001b[1;31mIndexError\u001b[0m                                Traceback (most recent call last)",
      "\u001b[1;32m<ipython-input-16-24018b6bd3d1>\u001b[0m in \u001b[0;36m<module>\u001b[1;34m()\u001b[0m\n\u001b[0;32m      1\u001b[0m \u001b[0msfeatures\u001b[0m\u001b[1;33m,\u001b[0m \u001b[0msx\u001b[0m\u001b[1;33m,\u001b[0m \u001b[0msy\u001b[0m \u001b[1;33m=\u001b[0m \u001b[0mgetData\u001b[0m\u001b[1;33m(\u001b[0m\u001b[1;34m\"silver.csv\"\u001b[0m\u001b[1;33m)\u001b[0m\u001b[1;33m\u001b[0m\u001b[0m\n\u001b[1;32m----> 2\u001b[1;33m \u001b[0mdkey\u001b[0m\u001b[1;33m,\u001b[0m \u001b[0mfkey\u001b[0m \u001b[1;33m=\u001b[0m \u001b[0mgetSpellCount\u001b[0m\u001b[1;33m(\u001b[0m\u001b[0msfeatures\u001b[0m\u001b[1;33m,\u001b[0m \u001b[0msx\u001b[0m\u001b[1;33m,\u001b[0m \u001b[0msy\u001b[0m\u001b[1;33m,\u001b[0m \u001b[0mspells\u001b[0m\u001b[1;33m)\u001b[0m\u001b[1;33m\u001b[0m\u001b[0m\n\u001b[0m\u001b[0;32m      3\u001b[0m \u001b[0mdtotals\u001b[0m\u001b[1;33m,\u001b[0m \u001b[0mdwins\u001b[0m\u001b[1;33m,\u001b[0m \u001b[0mftotals\u001b[0m\u001b[1;33m,\u001b[0m \u001b[0mfwins\u001b[0m \u001b[1;33m=\u001b[0m \u001b[0mgetTotals\u001b[0m\u001b[1;33m(\u001b[0m\u001b[0mdkey\u001b[0m\u001b[1;33m,\u001b[0m \u001b[0mfkey\u001b[0m\u001b[1;33m)\u001b[0m\u001b[1;33m\u001b[0m\u001b[0m\n\u001b[0;32m      4\u001b[0m \u001b[0mplotData\u001b[0m\u001b[1;33m(\u001b[0m\u001b[0mdtotals\u001b[0m\u001b[1;33m,\u001b[0m \u001b[0mdwins\u001b[0m\u001b[1;33m,\u001b[0m \u001b[0mftotals\u001b[0m\u001b[1;33m,\u001b[0m \u001b[0mfwins\u001b[0m\u001b[1;33m)\u001b[0m\u001b[1;33m\u001b[0m\u001b[0m\n",
      "\u001b[1;32m<ipython-input-6-88e909a8fce9>\u001b[0m in \u001b[0;36mgetSpellCount\u001b[1;34m(features, x, y, spells)\u001b[0m\n\u001b[0;32m      3\u001b[0m     \u001b[0mfkey\u001b[0m \u001b[1;33m=\u001b[0m \u001b[1;33m{\u001b[0m\u001b[1;33m}\u001b[0m\u001b[1;33m\u001b[0m\u001b[0m\n\u001b[0;32m      4\u001b[0m     \u001b[1;32mfor\u001b[0m \u001b[0mi\u001b[0m\u001b[1;33m,\u001b[0m \u001b[0mrow\u001b[0m \u001b[1;32min\u001b[0m \u001b[0menumerate\u001b[0m\u001b[1;33m(\u001b[0m\u001b[0mx\u001b[0m\u001b[1;33m)\u001b[0m\u001b[1;33m:\u001b[0m\u001b[1;33m\u001b[0m\u001b[0m\n\u001b[1;32m----> 5\u001b[1;33m         \u001b[0mdup\u001b[0m\u001b[1;33m,\u001b[0m \u001b[0mfup\u001b[0m \u001b[1;33m=\u001b[0m \u001b[0mcountSpells\u001b[0m\u001b[1;33m(\u001b[0m\u001b[0mfeatures\u001b[0m\u001b[1;33m,\u001b[0m \u001b[0mrow\u001b[0m\u001b[1;33m,\u001b[0m \u001b[0my\u001b[0m\u001b[1;33m[\u001b[0m\u001b[0mi\u001b[0m\u001b[1;33m]\u001b[0m\u001b[1;33m,\u001b[0m \u001b[0mspells\u001b[0m\u001b[1;33m)\u001b[0m\u001b[1;33m\u001b[0m\u001b[0m\n\u001b[0m\u001b[0;32m      6\u001b[0m         \u001b[1;32mfor\u001b[0m \u001b[0mkey\u001b[0m \u001b[1;32min\u001b[0m \u001b[0mdup\u001b[0m\u001b[1;33m:\u001b[0m\u001b[1;33m\u001b[0m\u001b[0m\n\u001b[0;32m      7\u001b[0m             \u001b[1;32mif\u001b[0m \u001b[0mkey\u001b[0m \u001b[1;32mnot\u001b[0m \u001b[1;32min\u001b[0m \u001b[0mdkey\u001b[0m\u001b[1;33m:\u001b[0m\u001b[1;33m\u001b[0m\u001b[0m\n",
      "\u001b[1;32m<ipython-input-5-d92a73ce3aea>\u001b[0m in \u001b[0;36mcountSpells\u001b[1;34m(features, x, y, spells)\u001b[0m\n\u001b[0;32m      9\u001b[0m         \u001b[0mwin\u001b[0m \u001b[1;33m=\u001b[0m \u001b[1;33m{\u001b[0m\u001b[1;34m\"t100\"\u001b[0m\u001b[1;33m:\u001b[0m \u001b[0mFalse\u001b[0m\u001b[1;33m,\u001b[0m \u001b[1;34m\"t200\"\u001b[0m\u001b[1;33m:\u001b[0m \u001b[0mTrue\u001b[0m\u001b[1;33m}\u001b[0m\u001b[1;33m\u001b[0m\u001b[0m\n\u001b[0;32m     10\u001b[0m     \u001b[1;32mfor\u001b[0m \u001b[0mi\u001b[0m\u001b[1;33m,\u001b[0m \u001b[0mfeature\u001b[0m \u001b[1;32min\u001b[0m \u001b[0menumerate\u001b[0m\u001b[1;33m(\u001b[0m\u001b[0mfeatures\u001b[0m\u001b[1;33m)\u001b[0m\u001b[1;33m:\u001b[0m\u001b[1;33m\u001b[0m\u001b[0m\n\u001b[1;32m---> 11\u001b[1;33m         \u001b[1;32mif\u001b[0m \u001b[1;34m\"spell1\"\u001b[0m \u001b[1;32min\u001b[0m \u001b[0mfeature\u001b[0m \u001b[1;32mand\u001b[0m \u001b[0mx\u001b[0m\u001b[1;33m[\u001b[0m\u001b[0mi\u001b[0m\u001b[1;33m]\u001b[0m \u001b[1;33m==\u001b[0m \u001b[1;34m\"1\"\u001b[0m\u001b[1;33m:\u001b[0m\u001b[1;33m\u001b[0m\u001b[0m\n\u001b[0m\u001b[0;32m     12\u001b[0m             \u001b[0mf\u001b[0m \u001b[1;33m=\u001b[0m \u001b[0mfeature\u001b[0m\u001b[1;33m.\u001b[0m\u001b[0msplit\u001b[0m\u001b[1;33m(\u001b[0m\u001b[1;34m\":spell1\"\u001b[0m\u001b[1;33m)\u001b[0m\u001b[1;33m\u001b[0m\u001b[0m\n\u001b[0;32m     13\u001b[0m             \u001b[0mteam\u001b[0m \u001b[1;33m=\u001b[0m \u001b[0mf\u001b[0m\u001b[1;33m[\u001b[0m\u001b[1;36m0\u001b[0m\u001b[1;33m]\u001b[0m\u001b[1;33m.\u001b[0m\u001b[0msplit\u001b[0m\u001b[1;33m(\u001b[0m\u001b[1;34m\":\"\u001b[0m\u001b[1;33m)\u001b[0m\u001b[1;33m[\u001b[0m\u001b[1;36m0\u001b[0m\u001b[1;33m]\u001b[0m\u001b[1;33m\u001b[0m\u001b[0m\n",
      "\u001b[1;31mIndexError\u001b[0m: list index out of range"
     ]
    }
   ],
   "source": [
    "sfeatures, sx, sy = getData(\"silver.csv\")\n",
    "dkey, fkey = getSpellCount(sfeatures, sx, sy, spells)\n",
    "dtotals, dwins, ftotals, fwins = getTotals(dkey, fkey)\n",
    "plotData(dtotals, dwins, ftotals, fwins)"
   ]
  },
  {
   "cell_type": "code",
   "execution_count": null,
   "metadata": {
    "collapsed": false
   },
   "outputs": [],
   "source": [
    "printStats(dkey, fkey)"
   ]
  },
  {
   "cell_type": "markdown",
   "metadata": {},
   "source": [
    "# Gold"
   ]
  },
  {
   "cell_type": "code",
   "execution_count": 66,
   "metadata": {
    "collapsed": false
   },
   "outputs": [
    {
     "data": {
      "image/png": "[encoded data removed]",
      "text/plain": [
       "<matplotlib.figure.Figure at 0x1c748198>"
      ]
     },
     "metadata": {},
     "output_type": "display_data"
    }
   ],
   "source": [
    "gfeatures, gx, gy = getData(\"gold.csv\")\n",
    "dkey, fkey = getSpellCount(gfeatures, gx, gy, spells)\n",
    "dtotals, dwins, ftotals, fwins = getTotals(dkey, fkey)\n",
    "plotData(dtotals, dwins, ftotals, fwins)"
   ]
  },
  {
   "cell_type": "code",
   "execution_count": 67,
   "metadata": {
    "collapsed": false
   },
   "outputs": [
    {
     "name": "stdout",
     "output_type": "stream",
     "text": [
      "Ignite     -> D: 50.7%, F: 50.0%\n",
      "Exhaust    -> D: 50.7%, F: 49.6%\n",
      "Ghost      -> D: 52.9%, F: 55.2%\n",
      "Barrier    -> D: 49.1%, F: 46.9%\n",
      "Smite      -> D: 49.6%, F: 50.5%\n",
      "Heal       -> D: 50.0%, F: 50.6%\n",
      "Flash      -> D: 50.1%, F: 49.6%\n",
      "Teleport   -> D: 49.1%, F: 51.3%\n",
      "Cleanse    -> D: 37.0%, F: 50.0%\n"
     ]
    }
   ],
   "source": [
    "printStats(dkey, fkey)"
   ]
  },
  {
   "cell_type": "markdown",
   "metadata": {},
   "source": [
    "# Platinum"
   ]
  },
  {
   "cell_type": "code",
   "execution_count": 68,
   "metadata": {
    "collapsed": false
   },
   "outputs": [
    {
     "data": {
      "image/png": "[encoded data removed]",
      "text/plain": [
       "<matplotlib.figure.Figure at 0x1c78b7b8>"
      ]
     },
     "metadata": {},
     "output_type": "display_data"
    }
   ],
   "source": [
    "pfeatures, px, py = getData(\"platinum.csv\")\n",
    "dkey, fkey = getSpellCount(pfeatures, px, py, spells)\n",
    "dtotals, dwins, ftotals, fwins = getTotals(dkey, fkey)\n",
    "plotData(dtotals, dwins, ftotals, fwins)"
   ]
  },
  {
   "cell_type": "code",
   "execution_count": 69,
   "metadata": {
    "collapsed": false
   },
   "outputs": [
    {
     "name": "stdout",
     "output_type": "stream",
     "text": [
      "Ignite     -> D: 50.6%, F: 50.2%\n",
      "Smite      -> D: 49.8%, F: 50.4%\n",
      "Ghost      -> D: 56.0%, F: 52.8%\n",
      "Barrier    -> D: 47.0%, F: 50.0%\n",
      "Exhaust    -> D: 52.1%, F: 48.9%\n",
      "Heal       -> D: 50.2%, F: 49.0%\n",
      "Flash      -> D: 50.1%, F: 49.9%\n",
      "Teleport   -> D: 48.2%, F: 52.6%\n",
      "Cleanse    -> D: 40.0%, F: 29.6%\n"
     ]
    }
   ],
   "source": [
    "printStats(dkey, fkey)"
   ]
  },
  {
   "cell_type": "markdown",
   "metadata": {},
   "source": [
    "# Diamond"
   ]
  },
  {
   "cell_type": "code",
   "execution_count": 70,
   "metadata": {
    "collapsed": false
   },
   "outputs": [
    {
     "data": {
      "image/png": "[encoded data removed]",
      "text/plain": [
       "<matplotlib.figure.Figure at 0x1c3c1908>"
      ]
     },
     "metadata": {},
     "output_type": "display_data"
    }
   ],
   "source": [
    "dfeatures, dx, dy = getData(\"diamond.csv\")\n",
    "dkey, fkey = getSpellCount(dfeatures, dx, dy, spells)\n",
    "dtotals, dwins, ftotals, fwins = getTotals(dkey, fkey)\n",
    "plotData(dtotals, dwins, ftotals, fwins)"
   ]
  },
  {
   "cell_type": "code",
   "execution_count": 71,
   "metadata": {
    "collapsed": false
   },
   "outputs": [
    {
     "name": "stdout",
     "output_type": "stream",
     "text": [
      "Ignite     -> D: 50.2%, F: 49.6%\n",
      "Teleport   -> D: 49.1%, F: 49.9%\n",
      "Barrier    -> D: 53.4%, F: 47.1%\n",
      "Smite      -> D: 50.6%, F: 49.2%\n",
      "Heal       -> D: 49.0%, F: 51.3%\n",
      "Flash      -> D: 50.0%, F: 50.0%\n",
      "Ghost      -> D: 46.0%, F: 53.3%\n",
      "Exhaust    -> D: 51.4%, F: 50.0%\n",
      "Cleanse    -> D: 50.0%, F: 47.2%\n"
     ]
    }
   ],
   "source": [
    "printStats(dkey, fkey)"
   ]
  },
  {
   "cell_type": "markdown",
   "metadata": {},
   "source": [
    "# Master"
   ]
  },
  {
   "cell_type": "code",
   "execution_count": 72,
   "metadata": {
    "collapsed": false
   },
   "outputs": [
    {
     "data": {
      "image/png": "[encoded data removed]",
      "text/plain": [
       "<matplotlib.figure.Figure at 0x19bfdba8>"
      ]
     },
     "metadata": {},
     "output_type": "display_data"
    }
   ],
   "source": [
    "mfeatures, mx, my = getData(\"master.csv\")\n",
    "dkey, fkey = getSpellCount(mfeatures, mx, my, spells)\n",
    "dtotals, dwins, ftotals, fwins = getTotals(dkey, fkey)\n",
    "plotData(dtotals, dwins, ftotals, fwins)"
   ]
  },
  {
   "cell_type": "code",
   "execution_count": 73,
   "metadata": {
    "collapsed": false
   },
   "outputs": [
    {
     "name": "stdout",
     "output_type": "stream",
     "text": [
      "Ignite     -> D: 48.3%, F: 49.9%\n",
      "Exhaust    -> D: 50.9%, F: 49.4%\n",
      "Ghost      -> D: 53.3%, F: 55.0%\n",
      "Barrier    -> D: 64.3%, F: 44.4%\n",
      "Smite      -> D: 49.4%, F: 50.5%\n",
      "Heal       -> D: 50.3%, F: 50.6%\n",
      "Flash      -> D: 50.6%, F: 49.2%\n",
      "Teleport   -> D: 48.6%, F: 52.1%\n",
      "Cleanse    -> D: 40.0%, F: 60.0%\n"
     ]
    }
   ],
   "source": [
    "printStats(dkey, fkey)"
   ]
  },
  {
   "cell_type": "markdown",
   "metadata": {},
   "source": [
    "# Challenger"
   ]
  },
  {
   "cell_type": "code",
   "execution_count": 74,
   "metadata": {
    "collapsed": false
   },
   "outputs": [
    {
     "data": {
      "image/png": "[encoded data removed]",
      "text/plain": [
       "<matplotlib.figure.Figure at 0x1c474fd0>"
      ]
     },
     "metadata": {},
     "output_type": "display_data"
    }
   ],
   "source": [
    "cfeatures, cx, cy = getData(\"challenger.csv\")\n",
    "dkey, fkey = getSpellCount(cfeatures, cx, cy, spells)\n",
    "dtotals, dwins, ftotals, fwins = getTotals(dkey, fkey)\n",
    "plotData(dtotals, dwins, ftotals, fwins)"
   ]
  },
  {
   "cell_type": "code",
   "execution_count": 75,
   "metadata": {
    "collapsed": false
   },
   "outputs": [
    {
     "name": "stdout",
     "output_type": "stream",
     "text": [
      "Ignite     -> D: 53.4%, F: 51.5%\n",
      "Exhaust    -> D: 50.4%, F: 43.4%\n",
      "Ghost      -> D: 48.0%, F: 43.8%\n",
      "Barrier    -> D: 25.0%, F: 48.7%\n",
      "Teleport   -> D: 50.8%, F: 50.0%\n",
      "Heal       -> D: 51.2%, F: 48.5%\n",
      "Flash      -> D: 48.5%, F: 51.4%\n",
      "Smite      -> D: 52.6%, F: 45.9%\n",
      "Cleanse    -> D: 48.3%, F: 53.3%\n"
     ]
    }
   ],
   "source": [
    "printStats(dkey, fkey)"
   ]
  },
  {
   "cell_type": "markdown",
   "metadata": {},
   "source": [
    "# Overall Totals"
   ]
  },
  {
   "cell_type": "code",
   "execution_count": 76,
   "metadata": {
    "collapsed": false
   },
   "outputs": [
    {
     "data": {
      "image/png": "[encoded data removed]",
      "text/plain": [
       "<matplotlib.figure.Figure at 0x27e70a58>"
      ]
     },
     "metadata": {},
     "output_type": "display_data"
    }
   ],
   "source": [
    "x = np.concatenate([bx, sx, gx, px, dx, mx, cx])\n",
    "y = np.concatenate([by, sy, gy, py, dy, my, cy])\n",
    "dkey, fkey = getSpellCount(bfeatures, x, y, spells)\n",
    "dtotals, dwins, ftotals, fwins = getTotals(dkey, fkey)\n",
    "plotData(dtotals, dwins, ftotals, fwins)"
   ]
  },
  {
   "cell_type": "code",
   "execution_count": 77,
   "metadata": {
    "collapsed": false
   },
   "outputs": [
    {
     "name": "stdout",
     "output_type": "stream",
     "text": [
      "Ignite     -> D: 50.5%, F: 50.0%\n",
      "Smite      -> D: 50.6%, F: 49.3%\n",
      "Ghost      -> D: 52.1%, F: 52.5%\n",
      "Barrier    -> D: 49.0%, F: 46.5%\n",
      "Exhaust    -> D: 51.5%, F: 48.8%\n",
      "Heal       -> D: 49.5%, F: 50.6%\n",
      "Flash      -> D: 49.8%, F: 50.1%\n",
      "Teleport   -> D: 49.5%, F: 50.5%\n",
      "Cleanse    -> D: 45.5%, F: 45.8%\n"
     ]
    }
   ],
   "source": [
    "printStats(dkey, fkey)"
   ]
  }
 ],
 "metadata": {
  "kernelspec": {
   "display_name": "Python 2",
   "language": "python",
   "name": "python2"
  },
  "language_info": {
   "codemirror_mode": {
    "name": "ipython",
    "version": 2
   },
   "file_extension": ".py",
   "mimetype": "text/x-python",
   "name": "python",
   "nbconvert_exporter": "python",
   "pygments_lexer": "ipython2",
   "version": "2.7.11"
  }
 },
 "nbformat": 4,
 "nbformat_minor": 0
}
