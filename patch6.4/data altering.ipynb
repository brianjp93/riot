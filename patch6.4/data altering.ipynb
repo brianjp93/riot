{
 "cells": [
  {
   "cell_type": "code",
   "execution_count": 24,
   "metadata": {
    "collapsed": false
   },
   "outputs": [],
   "source": [
    "from __future__ import division\n",
    "import csv\n",
    "from sklearn.svm import SVC"
   ]
  },
  {
   "cell_type": "code",
   "execution_count": 40,
   "metadata": {
    "collapsed": true
   },
   "outputs": [],
   "source": [
    "data = []\n",
    "with open(\"bronze.csv\", \"r\") as f:\n",
    "    reader = csv.reader(f)\n",
    "    for row in reader:\n",
    "        data.append(row)"
   ]
  },
  {
   "cell_type": "code",
   "execution_count": 79,
   "metadata": {
    "collapsed": false
   },
   "outputs": [
    {
     "data": {
      "text/plain": [
       "['t200:p10:spell214',\n",
       " 't200:p10:spell217',\n",
       " 't200:p10:spell221',\n",
       " 't200:p10:spell230',\n",
       " 't200:p10:spell231',\n",
       " 't200:p10:spell232',\n",
       " 't100firstbaron',\n",
       " 't100firstdragon',\n",
       " 't100firsttower',\n",
       " 't100firstinhibitor',\n",
       " 't100firstriftherald',\n",
       " 't100firstblood',\n",
       " 't200firstbaron',\n",
       " 't200firstdragon',\n",
       " 't200firsttower',\n",
       " 't200firstinhibitor',\n",
       " 't200firstriftherald',\n",
       " 't200firstblood',\n",
       " 't100win',\n",
       " 't200win']"
      ]
     },
     "execution_count": 79,
     "metadata": {},
     "output_type": "execute_result"
    }
   ],
   "source": [
    "data[0][-20:]"
   ]
  },
  {
   "cell_type": "code",
   "execution_count": 42,
   "metadata": {
    "collapsed": false
   },
   "outputs": [],
   "source": [
    "champs = []\n",
    "for i, feature in enumerate(data[0]):\n",
    "    if \"t100:p1:champ\" in feature:\n",
    "        champs.append(\"champ{}\".format(feature.split(\"champ\")[-1]))\n",
    "champindex = {champ: i for i, champ in enumerate(champs)}"
   ]
  },
  {
   "cell_type": "code",
   "execution_count": 43,
   "metadata": {
    "collapsed": false
   },
   "outputs": [
    {
     "data": {
      "text/plain": [
       "{'champ1': 0,\n",
       " 'champ10': 9,\n",
       " 'champ101': 84,\n",
       " 'champ102': 85,\n",
       " 'champ103': 86,\n",
       " 'champ104': 87,\n",
       " 'champ105': 88,\n",
       " 'champ106': 89,\n",
       " 'champ107': 90,\n",
       " 'champ11': 10,\n",
       " 'champ110': 91,\n",
       " 'champ111': 92,\n",
       " 'champ112': 93,\n",
       " 'champ113': 94,\n",
       " 'champ114': 95,\n",
       " 'champ115': 96,\n",
       " 'champ117': 97,\n",
       " 'champ119': 98,\n",
       " 'champ12': 11,\n",
       " 'champ120': 99,\n",
       " 'champ121': 100,\n",
       " 'champ122': 101,\n",
       " 'champ126': 102,\n",
       " 'champ127': 103,\n",
       " 'champ13': 12,\n",
       " 'champ131': 104,\n",
       " 'champ133': 105,\n",
       " 'champ134': 106,\n",
       " 'champ14': 13,\n",
       " 'champ143': 107,\n",
       " 'champ15': 14,\n",
       " 'champ150': 108,\n",
       " 'champ154': 109,\n",
       " 'champ157': 110,\n",
       " 'champ16': 15,\n",
       " 'champ161': 111,\n",
       " 'champ17': 16,\n",
       " 'champ18': 17,\n",
       " 'champ19': 18,\n",
       " 'champ2': 1,\n",
       " 'champ20': 19,\n",
       " 'champ201': 112,\n",
       " 'champ202': 113,\n",
       " 'champ203': 114,\n",
       " 'champ21': 20,\n",
       " 'champ22': 21,\n",
       " 'champ222': 115,\n",
       " 'champ223': 116,\n",
       " 'champ23': 22,\n",
       " 'champ236': 117,\n",
       " 'champ238': 118,\n",
       " 'champ24': 23,\n",
       " 'champ245': 119,\n",
       " 'champ25': 24,\n",
       " 'champ254': 120,\n",
       " 'champ26': 25,\n",
       " 'champ266': 121,\n",
       " 'champ267': 122,\n",
       " 'champ268': 123,\n",
       " 'champ27': 26,\n",
       " 'champ28': 27,\n",
       " 'champ29': 28,\n",
       " 'champ3': 2,\n",
       " 'champ30': 29,\n",
       " 'champ31': 30,\n",
       " 'champ32': 31,\n",
       " 'champ33': 32,\n",
       " 'champ34': 33,\n",
       " 'champ35': 34,\n",
       " 'champ36': 35,\n",
       " 'champ37': 36,\n",
       " 'champ38': 37,\n",
       " 'champ39': 38,\n",
       " 'champ4': 3,\n",
       " 'champ40': 39,\n",
       " 'champ41': 40,\n",
       " 'champ412': 124,\n",
       " 'champ42': 41,\n",
       " 'champ420': 125,\n",
       " 'champ421': 126,\n",
       " 'champ429': 127,\n",
       " 'champ43': 42,\n",
       " 'champ432': 128,\n",
       " 'champ44': 43,\n",
       " 'champ45': 44,\n",
       " 'champ48': 45,\n",
       " 'champ5': 4,\n",
       " 'champ50': 46,\n",
       " 'champ51': 47,\n",
       " 'champ53': 48,\n",
       " 'champ54': 49,\n",
       " 'champ55': 50,\n",
       " 'champ56': 51,\n",
       " 'champ57': 52,\n",
       " 'champ58': 53,\n",
       " 'champ59': 54,\n",
       " 'champ6': 5,\n",
       " 'champ60': 55,\n",
       " 'champ61': 56,\n",
       " 'champ62': 57,\n",
       " 'champ63': 58,\n",
       " 'champ64': 59,\n",
       " 'champ67': 60,\n",
       " 'champ68': 61,\n",
       " 'champ69': 62,\n",
       " 'champ7': 6,\n",
       " 'champ72': 63,\n",
       " 'champ74': 64,\n",
       " 'champ75': 65,\n",
       " 'champ76': 66,\n",
       " 'champ77': 67,\n",
       " 'champ78': 68,\n",
       " 'champ79': 69,\n",
       " 'champ8': 7,\n",
       " 'champ80': 70,\n",
       " 'champ81': 71,\n",
       " 'champ82': 72,\n",
       " 'champ83': 73,\n",
       " 'champ84': 74,\n",
       " 'champ85': 75,\n",
       " 'champ86': 76,\n",
       " 'champ89': 77,\n",
       " 'champ9': 8,\n",
       " 'champ90': 78,\n",
       " 'champ91': 79,\n",
       " 'champ92': 80,\n",
       " 'champ96': 81,\n",
       " 'champ98': 82,\n",
       " 'champ99': 83}"
      ]
     },
     "execution_count": 43,
     "metadata": {},
     "output_type": "execute_result"
    }
   ],
   "source": [
    "champindex"
   ]
  },
  {
   "cell_type": "code",
   "execution_count": 80,
   "metadata": {
    "collapsed": false
   },
   "outputs": [],
   "source": [
    "newdata = []\n",
    "newdata.append(champs)\n",
    "for game in data[1:]:\n",
    "    newgame1 = [0] * len(champs)\n",
    "    newgame2 = [0] * len(champs)\n",
    "    for i, feature in enumerate(game):\n",
    "        fname = data[0][i]\n",
    "        if \"t1\" in fname and \"champ\" in fname:\n",
    "            name = fname.split(\":\")[-1]\n",
    "            if int(feature) == 1:\n",
    "                newgame1[champindex[name]] = 1\n",
    "        if \"t2\" in fname and \"champ\" in fname:\n",
    "            name = fname.split(\":\")[-1]\n",
    "            if int(feature) == 1:\n",
    "                newgame2[champindex[name]] = 1\n",
    "    newdata.append(newgame1 + [game[-11]] + [game[-2]])\n",
    "    newdata.append(newgame2 + [game[-5]] + [game[-1]])"
   ]
  },
  {
   "cell_type": "code",
   "execution_count": 81,
   "metadata": {
    "collapsed": false
   },
   "outputs": [
    {
     "name": "stdout",
     "output_type": "stream",
     "text": [
      "129\n",
      "131\n"
     ]
    }
   ],
   "source": [
    "print(len(newdata[0]))\n",
    "print(len(newdata[1]))"
   ]
  },
  {
   "cell_type": "markdown",
   "metadata": {},
   "source": [
    "## SVM on altered data"
   ]
  },
  {
   "cell_type": "code",
   "execution_count": 82,
   "metadata": {
    "collapsed": true
   },
   "outputs": [],
   "source": [
    "x = [i[:-1] for i in newdata[1:]]\n",
    "y = [i[-1] for i in newdata[1:]]"
   ]
  },
  {
   "cell_type": "code",
   "execution_count": 75,
   "metadata": {
    "collapsed": false
   },
   "outputs": [
    {
     "data": {
      "text/plain": [
       "['champ1',\n",
       " 'champ2',\n",
       " 'champ3',\n",
       " 'champ4',\n",
       " 'champ5',\n",
       " 'champ6',\n",
       " 'champ7',\n",
       " 'champ8',\n",
       " 'champ9',\n",
       " 'champ10',\n",
       " 'champ11',\n",
       " 'champ12',\n",
       " 'champ13',\n",
       " 'champ14',\n",
       " 'champ15',\n",
       " 'champ16',\n",
       " 'champ17',\n",
       " 'champ18',\n",
       " 'champ19',\n",
       " 'champ20',\n",
       " 'champ21',\n",
       " 'champ22',\n",
       " 'champ23',\n",
       " 'champ24',\n",
       " 'champ25',\n",
       " 'champ26',\n",
       " 'champ27',\n",
       " 'champ28',\n",
       " 'champ29',\n",
       " 'champ30',\n",
       " 'champ31',\n",
       " 'champ32',\n",
       " 'champ33',\n",
       " 'champ34',\n",
       " 'champ35',\n",
       " 'champ36',\n",
       " 'champ37',\n",
       " 'champ38',\n",
       " 'champ39',\n",
       " 'champ40',\n",
       " 'champ41',\n",
       " 'champ42',\n",
       " 'champ43',\n",
       " 'champ44',\n",
       " 'champ45',\n",
       " 'champ48',\n",
       " 'champ50',\n",
       " 'champ51',\n",
       " 'champ53',\n",
       " 'champ54',\n",
       " 'champ55',\n",
       " 'champ56',\n",
       " 'champ57',\n",
       " 'champ58',\n",
       " 'champ59',\n",
       " 'champ60',\n",
       " 'champ61',\n",
       " 'champ62',\n",
       " 'champ63',\n",
       " 'champ64',\n",
       " 'champ67',\n",
       " 'champ68',\n",
       " 'champ69',\n",
       " 'champ72',\n",
       " 'champ74',\n",
       " 'champ75',\n",
       " 'champ76',\n",
       " 'champ77',\n",
       " 'champ78',\n",
       " 'champ79',\n",
       " 'champ80',\n",
       " 'champ81',\n",
       " 'champ82',\n",
       " 'champ83',\n",
       " 'champ84',\n",
       " 'champ85',\n",
       " 'champ86',\n",
       " 'champ89',\n",
       " 'champ90',\n",
       " 'champ91',\n",
       " 'champ92',\n",
       " 'champ96',\n",
       " 'champ98',\n",
       " 'champ99',\n",
       " 'champ101',\n",
       " 'champ102',\n",
       " 'champ103',\n",
       " 'champ104',\n",
       " 'champ105',\n",
       " 'champ106',\n",
       " 'champ107',\n",
       " 'champ110',\n",
       " 'champ111',\n",
       " 'champ112',\n",
       " 'champ113',\n",
       " 'champ114',\n",
       " 'champ115',\n",
       " 'champ117',\n",
       " 'champ119',\n",
       " 'champ120',\n",
       " 'champ121',\n",
       " 'champ122',\n",
       " 'champ126',\n",
       " 'champ127',\n",
       " 'champ131',\n",
       " 'champ133',\n",
       " 'champ134',\n",
       " 'champ143',\n",
       " 'champ150',\n",
       " 'champ154',\n",
       " 'champ157',\n",
       " 'champ161',\n",
       " 'champ201',\n",
       " 'champ202',\n",
       " 'champ203',\n",
       " 'champ222',\n",
       " 'champ223',\n",
       " 'champ236',\n",
       " 'champ238',\n",
       " 'champ245',\n",
       " 'champ254',\n",
       " 'champ266',\n",
       " 'champ267',\n",
       " 'champ268',\n",
       " 'champ412',\n",
       " 'champ420',\n",
       " 'champ421',\n",
       " 'champ429',\n",
       " 'champ432']"
      ]
     },
     "execution_count": 75,
     "metadata": {},
     "output_type": "execute_result"
    }
   ],
   "source": [
    "newdata[0]"
   ]
  },
  {
   "cell_type": "code",
   "execution_count": 83,
   "metadata": {
    "collapsed": true
   },
   "outputs": [],
   "source": [
    "sp = 3000"
   ]
  },
  {
   "cell_type": "code",
   "execution_count": 86,
   "metadata": {
    "collapsed": false
   },
   "outputs": [
    {
     "data": {
      "text/plain": [
       "SVC(C=1, cache_size=200, class_weight=None, coef0=0.0,\n",
       "  decision_function_shape=None, degree=5, gamma='auto', kernel='poly',\n",
       "  max_iter=-1, probability=False, random_state=None, shrinking=True,\n",
       "  tol=0.001, verbose=False)"
      ]
     },
     "execution_count": 86,
     "metadata": {},
     "output_type": "execute_result"
    }
   ],
   "source": [
    "clf = SVC(kernel=\"poly\", degree=5, C=1)\n",
    "clf.fit(x[:sp], y[:sp])"
   ]
  },
  {
   "cell_type": "code",
   "execution_count": 87,
   "metadata": {
    "collapsed": false
   },
   "outputs": [
    {
     "name": "stdout",
     "output_type": "stream",
     "text": [
      "0.608439201452\n",
      "got 4023 out of 6612\n"
     ]
    }
   ],
   "source": [
    "right = 0\n",
    "p = clf.predict(x[sp:])\n",
    "for i, ans in enumerate(p):\n",
    "#     print(ans,y[i + sp])\n",
    "    if int(ans) == int(y[i + sp]):\n",
    "        right += 1\n",
    "print(right/len(y[sp:]))\n",
    "print(\"got {} out of {}\".format(right, len(y[sp:])))"
   ]
  },
  {
   "cell_type": "code",
   "execution_count": null,
   "metadata": {
    "collapsed": true
   },
   "outputs": [],
   "source": []
  }
 ],
 "metadata": {
  "kernelspec": {
   "display_name": "Python 2",
   "language": "python",
   "name": "python2"
  },
  "language_info": {
   "codemirror_mode": {
    "name": "ipython",
    "version": 2
   },
   "file_extension": ".py",
   "mimetype": "text/x-python",
   "name": "python",
   "nbconvert_exporter": "python",
   "pygments_lexer": "ipython2",
   "version": "2.7.11"
  }
 },
 "nbformat": 4,
 "nbformat_minor": 0
}
