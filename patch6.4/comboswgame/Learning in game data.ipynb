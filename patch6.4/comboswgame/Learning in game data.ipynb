{
 "cells": [
  {
   "cell_type": "code",
   "execution_count": 83,
   "metadata": {
    "collapsed": false
   },
   "outputs": [],
   "source": [
    "from __future__ import division, print_function\n",
    "import csv\n",
    "from sklearn.svm import SVC\n",
    "from sklearn import grid_search\n",
    "from sklearn.ensemble import RandomForestClassifier as rfc\n",
    "import seaborn\n",
    "import matplotlib.pyplot as plt\n",
    "import numpy as np"
   ]
  },
  {
   "cell_type": "code",
   "execution_count": 3,
   "metadata": {
    "collapsed": true
   },
   "outputs": [],
   "source": [
    "champids = {'1': 'Annie',\n",
    " '10': 'Kayle',\n",
    " '101': 'Xerath',\n",
    " '102': 'Shyvana',\n",
    " '103': 'Ahri',\n",
    " '104': 'Graves',\n",
    " '105': 'Fizz',\n",
    " '106': 'Volibear',\n",
    " '107': 'Rengar',\n",
    " '11': 'Master Yi',\n",
    " '110': 'Varus',\n",
    " '111': 'Nautilus',\n",
    " '112': 'Viktor',\n",
    " '113': 'Sejuani',\n",
    " '114': 'Fiora',\n",
    " '115': 'Ziggs',\n",
    " '117': 'Lulu',\n",
    " '119': 'Draven',\n",
    " '12': 'Alistar',\n",
    " '120': 'Hecarim',\n",
    " '121': \"Kha'Zix\",\n",
    " '122': 'Darius',\n",
    " '126': 'Jayce',\n",
    " '127': 'Lissandra',\n",
    " '13': 'Ryze',\n",
    " '131': 'Diana',\n",
    " '133': 'Quinn',\n",
    " '134': 'Syndra',\n",
    " '14': 'Sion',\n",
    " '143': 'Zyra',\n",
    " '15': 'Sivir',\n",
    " '150': 'Gnar',\n",
    " '154': 'Zac',\n",
    " '157': 'Yasuo',\n",
    " '16': 'Soraka',\n",
    " '161': \"Vel'Koz\",\n",
    " '17': 'Teemo',\n",
    " '18': 'Tristana',\n",
    " '19': 'Warwick',\n",
    " '2': 'Olaf',\n",
    " '20': 'Nunu',\n",
    " '201': 'Braum',\n",
    " '202': 'Jhin',\n",
    " '203': 'Kindred',\n",
    " '21': 'Miss Fortune',\n",
    " '22': 'Ashe',\n",
    " '222': 'Jinx',\n",
    " '223': 'Tahm Kench',\n",
    " '23': 'Tryndamere',\n",
    " '236': 'Lucian',\n",
    " '238': 'Zed',\n",
    " '24': 'Jax',\n",
    " '245': 'Ekko',\n",
    " '25': 'Morgana',\n",
    " '254': 'Vi',\n",
    " '26': 'Zilean',\n",
    " '266': 'Aatrox',\n",
    " '267': 'Nami',\n",
    " '268': 'Azir',\n",
    " '27': 'Singed',\n",
    " '28': 'Evelynn',\n",
    " '29': 'Twitch',\n",
    " '3': 'Galio',\n",
    " '30': 'Karthus',\n",
    " '31': \"Cho'Gath\",\n",
    " '32': 'Amumu',\n",
    " '33': 'Rammus',\n",
    " '34': 'Anivia',\n",
    " '35': 'Shaco',\n",
    " '36': 'Dr. Mundo',\n",
    " '37': 'Sona',\n",
    " '38': 'Kassadin',\n",
    " '39': 'Irelia',\n",
    " '4': 'Twisted Fate',\n",
    " '40': 'Janna',\n",
    " '41': 'Gangplank',\n",
    " '412': 'Thresh',\n",
    " '42': 'Corki',\n",
    " '420': 'Illaoi',\n",
    " '421': \"Rek'Sai\",\n",
    " '429': 'Kalista',\n",
    " '43': 'Karma',\n",
    " '432': 'Bard',\n",
    " '44': 'Taric',\n",
    " '45': 'Veigar',\n",
    " '48': 'Trundle',\n",
    " '5': 'Xin Zhao',\n",
    " '50': 'Swain',\n",
    " '51': 'Caitlyn',\n",
    " '53': 'Blitzcrank',\n",
    " '54': 'Malphite',\n",
    " '55': 'Katarina',\n",
    " '56': 'Nocturne',\n",
    " '57': 'Maokai',\n",
    " '58': 'Renekton',\n",
    " '59': 'Jarvan IV',\n",
    " '6': 'Urgot',\n",
    " '60': 'Elise',\n",
    " '61': 'Orianna',\n",
    " '62': 'Wukong',\n",
    " '63': 'Brand',\n",
    " '64': 'Lee Sin',\n",
    " '67': 'Vayne',\n",
    " '68': 'Rumble',\n",
    " '69': 'Cassiopeia',\n",
    " '7': 'LeBlanc',\n",
    " '72': 'Skarner',\n",
    " '74': 'Heimerdinger',\n",
    " '75': 'Nasus',\n",
    " '76': 'Nidalee',\n",
    " '77': 'Udyr',\n",
    " '78': 'Poppy',\n",
    " '79': 'Gragas',\n",
    " '8': 'Vladimir',\n",
    " '80': 'Pantheon',\n",
    " '81': 'Ezreal',\n",
    " '82': 'Mordekaiser',\n",
    " '83': 'Yorick',\n",
    " '84': 'Akali',\n",
    " '85': 'Kennen',\n",
    " '86': 'Garen',\n",
    " '89': 'Leona',\n",
    " '9': 'Fiddlesticks',\n",
    " '90': 'Malzahar',\n",
    " '91': 'Talon',\n",
    " '92': 'Riven',\n",
    " '96': \"Kog'Maw\",\n",
    " '98': 'Shen',\n",
    " '99': 'Lux'}"
   ]
  },
  {
   "cell_type": "code",
   "execution_count": 4,
   "metadata": {
    "collapsed": true
   },
   "outputs": [],
   "source": [
    "def getData(filename):\n",
    "    headers = []\n",
    "    x = []\n",
    "    y = []\n",
    "    with open(filename, \"r\") as f:\n",
    "        reader = csv.reader(f)\n",
    "        for i, row in enumerate(reader):\n",
    "            if i == 0:\n",
    "                headers = row\n",
    "            else:\n",
    "                x.append(row[:-1])\n",
    "                y.append(row[-1])\n",
    "    return x, y, headers"
   ]
  },
  {
   "cell_type": "code",
   "execution_count": 5,
   "metadata": {
    "collapsed": true
   },
   "outputs": [],
   "source": [
    "def testRight(clf, x, y):\n",
    "    right = 0\n",
    "    p = clf.predict(x)\n",
    "    for i, ans in enumerate(p):\n",
    "        if int(ans) == int(y[i]):\n",
    "            right += 1\n",
    "    print(\"Got {} right out of {}. {}%\".format(right, len(x), round(right/len(x)*100, 2)))\n",
    "    return round(right/len(x)*100, 2)"
   ]
  },
  {
   "cell_type": "code",
   "execution_count": 6,
   "metadata": {
    "collapsed": true
   },
   "outputs": [],
   "source": [
    "def getTopFeatures(l, n, headers):\n",
    "    feats = sorted(l)[-1: -(n + 1): -1]\n",
    "    top = [headers[list(l).index(x)] for x in feats]\n",
    "    return top"
   ]
  },
  {
   "cell_type": "markdown",
   "metadata": {},
   "source": [
    "## Bronze Data"
   ]
  },
  {
   "cell_type": "code",
   "execution_count": 7,
   "metadata": {
    "collapsed": true
   },
   "outputs": [],
   "source": [
    "bx, by, headers = getData(\"bronze.csv\")"
   ]
  },
  {
   "cell_type": "code",
   "execution_count": 8,
   "metadata": {
    "collapsed": false,
    "scrolled": true
   },
   "outputs": [
    {
     "data": {
      "text/plain": [
       "9612"
      ]
     },
     "execution_count": 8,
     "metadata": {},
     "output_type": "execute_result"
    }
   ],
   "source": [
    "len(bx)"
   ]
  },
  {
   "cell_type": "code",
   "execution_count": 9,
   "metadata": {
    "collapsed": false
   },
   "outputs": [
    {
     "name": "stdout",
     "output_type": "stream",
     "text": [
      "['champ1', 'champ2', 'champ3', 'champ4', 'champ5', 'champ6', 'champ7', 'champ8', 'champ9', 'champ10', 'champ11', 'champ12', 'champ13', 'champ14', 'champ15', 'champ16', 'champ17', 'champ18', 'champ19', 'champ20', 'champ21', 'champ22', 'champ23', 'champ24', 'champ25', 'champ26', 'champ27', 'champ28', 'champ29', 'champ30', 'champ31', 'champ32', 'champ33', 'champ34', 'champ35', 'champ36', 'champ37', 'champ38', 'champ39', 'champ40', 'champ41', 'champ42', 'champ43', 'champ44', 'champ45', 'champ48', 'champ50', 'champ51', 'champ53', 'champ54', 'champ55', 'champ56', 'champ57', 'champ58', 'champ59', 'champ60', 'champ61', 'champ62', 'champ63', 'champ64', 'champ67', 'champ68', 'champ69', 'champ72', 'champ74', 'champ75', 'champ76', 'champ77', 'champ78', 'champ79', 'champ80', 'champ81', 'champ82', 'champ83', 'champ84', 'champ85', 'champ86', 'champ89', 'champ90', 'champ91', 'champ92', 'champ96', 'champ98', 'champ99', 'champ101', 'champ102', 'champ103', 'champ104', 'champ105', 'champ106', 'champ107', 'champ110', 'champ111', 'champ112', 'champ113', 'champ114', 'champ115', 'champ117', 'champ119', 'champ120', 'champ121', 'champ122', 'champ126', 'champ127', 'champ131', 'champ133', 'champ134', 'champ143', 'champ150', 'champ154', 'champ157', 'champ161', 'champ201', 'champ202', 'champ203', 'champ222', 'champ223', 'champ236', 'champ238', 'champ245', 'champ254', 'champ266', 'champ267', 'champ268', 'champ412', 'champ420', 'champ421', 'champ429', 'champ432', 'firstbaron', 'firstdragon', 'firsttower', 'firstinhibitor', 'firstriftherald', 'firstblood', 'win']\n"
     ]
    }
   ],
   "source": [
    "print(headers)"
   ]
  },
  {
   "cell_type": "code",
   "execution_count": 10,
   "metadata": {
    "collapsed": true
   },
   "outputs": [],
   "source": [
    "sp = int(len(bx) * .6)"
   ]
  },
  {
   "cell_type": "code",
   "execution_count": 11,
   "metadata": {
    "collapsed": false
   },
   "outputs": [
    {
     "data": {
      "text/plain": [
       "SVC(C=1.0, cache_size=200, class_weight=None, coef0=0.0,\n",
       "  decision_function_shape=None, degree=3, gamma='auto', kernel='linear',\n",
       "  max_iter=-1, probability=False, random_state=None, shrinking=True,\n",
       "  tol=0.001, verbose=False)"
      ]
     },
     "execution_count": 11,
     "metadata": {},
     "output_type": "execute_result"
    }
   ],
   "source": [
    "clf = SVC(kernel=\"linear\", degree=3)\n",
    "clf.fit(bx[:sp], by[:sp])"
   ]
  },
  {
   "cell_type": "code",
   "execution_count": 12,
   "metadata": {
    "collapsed": false
   },
   "outputs": [
    {
     "name": "stdout",
     "output_type": "stream",
     "text": [
      "Got 3376 right out of 3845. 87.8%\n"
     ]
    },
    {
     "data": {
      "text/plain": [
       "87.8"
      ]
     },
     "execution_count": 12,
     "metadata": {},
     "output_type": "execute_result"
    }
   ],
   "source": [
    "testRight(clf, bx[sp:], by[sp:])"
   ]
  },
  {
   "cell_type": "markdown",
   "metadata": {},
   "source": [
    "# Bronze Data"
   ]
  },
  {
   "cell_type": "markdown",
   "metadata": {},
   "source": [
    "### Linear SVM"
   ]
  },
  {
   "cell_type": "code",
   "execution_count": 14,
   "metadata": {
    "collapsed": false
   },
   "outputs": [
    {
     "name": "stdout",
     "output_type": "stream",
     "text": [
      "Got 3376 right out of 3845. 87.8%\n"
     ]
    }
   ],
   "source": [
    "x, y, headers = getData(\"bronze.csv\")\n",
    "bx, by = x, y\n",
    "sp = int(len(x) * .6)\n",
    "bsp = sp\n",
    "clf = SVC(kernel=\"linear\", degree=1)\n",
    "bclf = clf\n",
    "clf.fit(x[:sp], y[:sp])\n",
    "blsvm = testRight(clf, x[sp:], y[sp:])"
   ]
  },
  {
   "cell_type": "markdown",
   "metadata": {},
   "source": [
    "### Random Forest"
   ]
  },
  {
   "cell_type": "code",
   "execution_count": 15,
   "metadata": {
    "collapsed": false
   },
   "outputs": [
    {
     "name": "stdout",
     "output_type": "stream",
     "text": [
      "Got 3379 right out of 3845. 87.88%\n"
     ]
    }
   ],
   "source": [
    "brfc = rfc(n_estimators=100, max_features=\"sqrt\", max_depth=15)\n",
    "x, y = bx, by\n",
    "clf_forest = brfc\n",
    "sp = bsp\n",
    "clf_forest.fit(x[:sp], y[:sp])\n",
    "brfc = clf_forest\n",
    "brf = testRight(clf_forest, x[sp:], y[sp:])"
   ]
  },
  {
   "cell_type": "code",
   "execution_count": 16,
   "metadata": {
    "collapsed": false,
    "scrolled": true
   },
   "outputs": [
    {
     "data": {
      "text/plain": [
       "['firstinhibitor',\n",
       " 'firstdragon',\n",
       " 'firsttower',\n",
       " 'firstbaron',\n",
       " 'firstriftherald',\n",
       " 'firstblood',\n",
       " 'champ54',\n",
       " 'champ157',\n",
       " 'champ99',\n",
       " 'champ236']"
      ]
     },
     "execution_count": 16,
     "metadata": {},
     "output_type": "execute_result"
    }
   ],
   "source": [
    "getTopFeatures(brfc.feature_importances_, 10, headers)"
   ]
  },
  {
   "cell_type": "markdown",
   "metadata": {},
   "source": [
    "### Polynomial 5 Kernel"
   ]
  },
  {
   "cell_type": "code",
   "execution_count": 17,
   "metadata": {
    "collapsed": false
   },
   "outputs": [
    {
     "name": "stdout",
     "output_type": "stream",
     "text": [
      "Got 3268 right out of 3845. 84.99%\n"
     ]
    }
   ],
   "source": [
    "x, y = bx, by\n",
    "sp = bsp\n",
    "klf = SVC(kernel=\"poly\", degree=5, C=20, gamma=10)\n",
    "klf.fit(x[:sp], y[:sp])\n",
    "bk = testRight(klf, x[sp:], y[sp:])"
   ]
  },
  {
   "cell_type": "markdown",
   "metadata": {},
   "source": [
    "# Silver Data"
   ]
  },
  {
   "cell_type": "markdown",
   "metadata": {},
   "source": [
    "### Linear SVM"
   ]
  },
  {
   "cell_type": "code",
   "execution_count": 18,
   "metadata": {
    "collapsed": false,
    "scrolled": true
   },
   "outputs": [
    {
     "name": "stdout",
     "output_type": "stream",
     "text": [
      "Got 8289 right out of 9457. 87.65%\n"
     ]
    }
   ],
   "source": [
    "x, y, headers = getData(\"silver.csv\")\n",
    "sx, sy = x, y\n",
    "sp = int(len(x) * .6)\n",
    "ssp = sp\n",
    "clf = SVC(kernel=\"linear\", degree=1)\n",
    "sclf = clf\n",
    "clf.fit(x[:sp], y[:sp])\n",
    "slsvm = testRight(clf, x[sp:], y[sp:])"
   ]
  },
  {
   "cell_type": "markdown",
   "metadata": {},
   "source": [
    "### Random Forest"
   ]
  },
  {
   "cell_type": "code",
   "execution_count": 19,
   "metadata": {
    "collapsed": false
   },
   "outputs": [
    {
     "name": "stdout",
     "output_type": "stream",
     "text": [
      "Got 8306 right out of 9457. 87.83%\n"
     ]
    }
   ],
   "source": [
    "srfc = rfc(n_estimators=100, max_features=\"sqrt\", max_depth=20)\n",
    "x, y = sx, sy\n",
    "clf_forest = srfc\n",
    "sp = ssp\n",
    "clf_forest.fit(x[:sp], y[:sp])\n",
    "srf = testRight(clf_forest, x[sp:], y[sp:])"
   ]
  },
  {
   "cell_type": "code",
   "execution_count": 20,
   "metadata": {
    "collapsed": false
   },
   "outputs": [
    {
     "data": {
      "text/plain": [
       "['firstinhibitor',\n",
       " 'firstbaron',\n",
       " 'firstdragon',\n",
       " 'firsttower',\n",
       " 'firstriftherald',\n",
       " 'firstblood',\n",
       " 'champ81',\n",
       " 'champ412',\n",
       " 'champ111',\n",
       " 'champ236']"
      ]
     },
     "execution_count": 20,
     "metadata": {},
     "output_type": "execute_result"
    }
   ],
   "source": [
    "getTopFeatures(srfc.feature_importances_, 10, headers)"
   ]
  },
  {
   "cell_type": "code",
   "execution_count": 21,
   "metadata": {
    "collapsed": false
   },
   "outputs": [
    {
     "data": {
      "text/plain": [
       "'Ezreal'"
      ]
     },
     "execution_count": 21,
     "metadata": {},
     "output_type": "execute_result"
    }
   ],
   "source": [
    "champids[\"81\"]"
   ]
  },
  {
   "cell_type": "markdown",
   "metadata": {},
   "source": [
    "### Polynomial 5 Kernel"
   ]
  },
  {
   "cell_type": "code",
   "execution_count": 22,
   "metadata": {
    "collapsed": false
   },
   "outputs": [
    {
     "name": "stdout",
     "output_type": "stream",
     "text": [
      "Got 8144 right out of 9457. 86.12%\n"
     ]
    }
   ],
   "source": [
    "x, y = sx, sy\n",
    "sp = ssp\n",
    "klf = SVC(kernel=\"poly\", degree=5, C=20, gamma=10)\n",
    "klf.fit(x[:sp], y[:sp])\n",
    "sk = testRight(klf, x[sp:], y[sp:])"
   ]
  },
  {
   "cell_type": "markdown",
   "metadata": {},
   "source": [
    "# Gold Data"
   ]
  },
  {
   "cell_type": "code",
   "execution_count": 23,
   "metadata": {
    "collapsed": false
   },
   "outputs": [
    {
     "name": "stdout",
     "output_type": "stream",
     "text": [
      "Got 6371 right out of 7300. 87.27%\n"
     ]
    }
   ],
   "source": [
    "x, y, headers = getData(\"gold.csv\")\n",
    "gx, gy = x, y\n",
    "sp = int(len(x) * .6)\n",
    "gsp = sp\n",
    "clf = SVC(kernel=\"linear\", degree=3)\n",
    "gclf = clf\n",
    "clf.fit(x[:sp], y[:sp])\n",
    "glsvm = testRight(clf, x[sp:], y[sp:])"
   ]
  },
  {
   "cell_type": "markdown",
   "metadata": {},
   "source": [
    "### Random Forest"
   ]
  },
  {
   "cell_type": "code",
   "execution_count": 25,
   "metadata": {
    "collapsed": false
   },
   "outputs": [
    {
     "name": "stdout",
     "output_type": "stream",
     "text": [
      "Got 6384 right out of 7300. 87.45%\n"
     ]
    }
   ],
   "source": [
    "grfc = rfc(n_estimators=100, max_features=\"sqrt\", max_depth=20)\n",
    "x, y = gx, gy\n",
    "clf_forest = grfc\n",
    "sp = gsp\n",
    "clf_forest.fit(x[:sp], y[:sp])\n",
    "grfc = clf_forest\n",
    "grf = testRight(clf_forest, x[sp:], y[sp:])"
   ]
  },
  {
   "cell_type": "code",
   "execution_count": 26,
   "metadata": {
    "collapsed": false,
    "scrolled": true
   },
   "outputs": [
    {
     "data": {
      "text/plain": [
       "['firstinhibitor',\n",
       " 'firstbaron',\n",
       " 'firsttower',\n",
       " 'firstdragon',\n",
       " 'firstblood',\n",
       " 'firstriftherald',\n",
       " 'champ236',\n",
       " 'champ81',\n",
       " 'champ111',\n",
       " 'champ99']"
      ]
     },
     "execution_count": 26,
     "metadata": {},
     "output_type": "execute_result"
    }
   ],
   "source": [
    "getTopFeatures(grfc.feature_importances_, 10, headers)"
   ]
  },
  {
   "cell_type": "markdown",
   "metadata": {},
   "source": [
    "### Polynomial 5 Kernel"
   ]
  },
  {
   "cell_type": "code",
   "execution_count": 27,
   "metadata": {
    "collapsed": false
   },
   "outputs": [
    {
     "name": "stdout",
     "output_type": "stream",
     "text": [
      "Got 6246 right out of 7300. 85.56%\n"
     ]
    }
   ],
   "source": [
    "x, y = gx, gy\n",
    "sp = gsp\n",
    "klf = SVC(kernel=\"poly\", degree=5, C=20, gamma=10)\n",
    "klf.fit(x[:sp], y[:sp])\n",
    "gk = testRight(klf, x[sp:], y[sp:])"
   ]
  },
  {
   "cell_type": "markdown",
   "metadata": {},
   "source": [
    "# Platinum Data"
   ]
  },
  {
   "cell_type": "markdown",
   "metadata": {},
   "source": [
    "### Linear SVM"
   ]
  },
  {
   "cell_type": "code",
   "execution_count": 28,
   "metadata": {
    "collapsed": false
   },
   "outputs": [
    {
     "name": "stdout",
     "output_type": "stream",
     "text": [
      "Got 5350 right out of 6066. 88.2%\n"
     ]
    }
   ],
   "source": [
    "x, y, headers = getData(\"platinum.csv\")\n",
    "px, py = x, y\n",
    "sp = int(len(x) * .6)\n",
    "psp = sp\n",
    "clf = SVC(kernel=\"linear\", degree=3)\n",
    "pclf = clf\n",
    "clf.fit(x[:sp], y[:sp])\n",
    "plsvm = testRight(clf, x[sp:], y[sp:])"
   ]
  },
  {
   "cell_type": "markdown",
   "metadata": {},
   "source": [
    "### Random Forest"
   ]
  },
  {
   "cell_type": "code",
   "execution_count": 29,
   "metadata": {
    "collapsed": false
   },
   "outputs": [
    {
     "name": "stdout",
     "output_type": "stream",
     "text": [
      "Got 5347 right out of 6066. 88.15%\n"
     ]
    }
   ],
   "source": [
    "prfc = rfc(n_estimators=100, max_features=\"sqrt\", max_depth=20)\n",
    "x, y = px, py\n",
    "clf_forest = prfc\n",
    "sp = psp\n",
    "clf_forest.fit(x[:sp], y[:sp])\n",
    "prf = testRight(clf_forest, x[sp:], y[sp:])"
   ]
  },
  {
   "cell_type": "code",
   "execution_count": 30,
   "metadata": {
    "collapsed": false
   },
   "outputs": [
    {
     "data": {
      "text/plain": [
       "['firstinhibitor',\n",
       " 'firstbaron',\n",
       " 'firsttower',\n",
       " 'firstdragon',\n",
       " 'firstblood',\n",
       " 'firstriftherald',\n",
       " 'champ236',\n",
       " 'champ81',\n",
       " 'champ40',\n",
       " 'champ111']"
      ]
     },
     "execution_count": 30,
     "metadata": {},
     "output_type": "execute_result"
    }
   ],
   "source": [
    "getTopFeatures(prfc.feature_importances_, 10, headers)"
   ]
  },
  {
   "cell_type": "markdown",
   "metadata": {},
   "source": [
    "### Polynomial 5 Kernel"
   ]
  },
  {
   "cell_type": "code",
   "execution_count": 31,
   "metadata": {
    "collapsed": false
   },
   "outputs": [
    {
     "name": "stdout",
     "output_type": "stream",
     "text": [
      "Got 5206 right out of 6066. 85.82%\n"
     ]
    }
   ],
   "source": [
    "x, y = px, py\n",
    "sp = psp\n",
    "klf = SVC(kernel=\"poly\", degree=5, C=20, gamma=10)\n",
    "# klf = grid_search.GridSearchCV(klf, {\"kernel\":(\"poly\",), \"C\": [1, 50, 100], \"gamma\": [1, 2, 5, 10, 100]})\n",
    "klf.fit(x[:sp], y[:sp])\n",
    "pk = testRight(klf, x[sp:], y[sp:])"
   ]
  },
  {
   "cell_type": "markdown",
   "metadata": {},
   "source": [
    "## Diamond Data"
   ]
  },
  {
   "cell_type": "markdown",
   "metadata": {},
   "source": [
    "### Linear SVM"
   ]
  },
  {
   "cell_type": "code",
   "execution_count": 32,
   "metadata": {
    "collapsed": false
   },
   "outputs": [
    {
     "name": "stdout",
     "output_type": "stream",
     "text": [
      "Got 8219 right out of 9282. 88.55%\n"
     ]
    }
   ],
   "source": [
    "x, y, headers = getData(\"Diamond.csv\")\n",
    "dx, dy = x, y\n",
    "sp = int(len(x) * .6)\n",
    "dsp = sp\n",
    "clf = SVC(kernel=\"linear\", degree=3)\n",
    "dclf = clf\n",
    "clf.fit(x[:sp], y[:sp])\n",
    "dlsvm = testRight(clf, x[sp:], y[sp:])"
   ]
  },
  {
   "cell_type": "markdown",
   "metadata": {},
   "source": [
    "### Random Forest"
   ]
  },
  {
   "cell_type": "code",
   "execution_count": 33,
   "metadata": {
    "collapsed": false
   },
   "outputs": [
    {
     "name": "stdout",
     "output_type": "stream",
     "text": [
      "Got 8232 right out of 9282. 88.69%\n"
     ]
    }
   ],
   "source": [
    "drfc = rfc(n_estimators=100, max_features=\"sqrt\", max_depth=20)\n",
    "x, y = dx, dy\n",
    "clf_forest = drfc\n",
    "sp = dsp\n",
    "clf_forest.fit(x[:sp], y[:sp])\n",
    "drf = testRight(clf_forest, x[sp:], y[sp:])"
   ]
  },
  {
   "cell_type": "code",
   "execution_count": 34,
   "metadata": {
    "collapsed": false
   },
   "outputs": [
    {
     "data": {
      "text/plain": [
       "['firstinhibitor',\n",
       " 'firstbaron',\n",
       " 'firsttower',\n",
       " 'firstdragon',\n",
       " 'firstriftherald',\n",
       " 'firstblood',\n",
       " 'champ40',\n",
       " 'champ236',\n",
       " 'champ81',\n",
       " 'champ64']"
      ]
     },
     "execution_count": 34,
     "metadata": {},
     "output_type": "execute_result"
    }
   ],
   "source": [
    "getTopFeatures(drfc.feature_importances_, 10, headers)"
   ]
  },
  {
   "cell_type": "markdown",
   "metadata": {},
   "source": [
    "### Kernel Polynomial 5"
   ]
  },
  {
   "cell_type": "code",
   "execution_count": 35,
   "metadata": {
    "collapsed": false
   },
   "outputs": [
    {
     "name": "stdout",
     "output_type": "stream",
     "text": [
      "Got 8108 right out of 9282. 87.35%\n"
     ]
    }
   ],
   "source": [
    "x, y = dx, dy\n",
    "sp = dsp\n",
    "klf = SVC(kernel=\"poly\", degree=5, C=1, gamma=10)\n",
    "klf.fit(x[:sp], y[:sp])\n",
    "dk = testRight(klf, x[sp:], y[sp:])"
   ]
  },
  {
   "cell_type": "markdown",
   "metadata": {},
   "source": [
    "# Master Data"
   ]
  },
  {
   "cell_type": "markdown",
   "metadata": {},
   "source": [
    "### Linear SVM"
   ]
  },
  {
   "cell_type": "code",
   "execution_count": 36,
   "metadata": {
    "collapsed": false
   },
   "outputs": [
    {
     "name": "stdout",
     "output_type": "stream",
     "text": [
      "Got 1894 right out of 2123. 89.21%\n"
     ]
    }
   ],
   "source": [
    "x, y, headers = getData(\"master.csv\")\n",
    "mx, my = x, y\n",
    "sp = int(len(x) * .6)\n",
    "msp = sp\n",
    "clf = SVC(kernel=\"linear\", degree=3)\n",
    "# clf = grid_search.GridSearchCV(clf, {\"kernel\":(\"linear\",), \"C\": [1, 10, 20], \"gamma\": [1, 50, 100]})\n",
    "mclf = clf\n",
    "clf.fit(x[:sp], y[:sp])\n",
    "mlsvm = testRight(clf, x[sp:], y[sp:])"
   ]
  },
  {
   "cell_type": "markdown",
   "metadata": {},
   "source": [
    "### Random Forest"
   ]
  },
  {
   "cell_type": "code",
   "execution_count": 37,
   "metadata": {
    "collapsed": false
   },
   "outputs": [
    {
     "name": "stdout",
     "output_type": "stream",
     "text": [
      "Got 1891 right out of 2123. 89.07%\n"
     ]
    }
   ],
   "source": [
    "mrfc = rfc(n_estimators=100, max_features=\"sqrt\", max_depth=15)\n",
    "x, y = mx, my\n",
    "clf_forest = mrfc\n",
    "sp = msp\n",
    "clf_forest.fit(x[:sp], y[:sp])\n",
    "mrf = testRight(clf_forest, x[sp:], y[sp:])"
   ]
  },
  {
   "cell_type": "code",
   "execution_count": 38,
   "metadata": {
    "collapsed": false,
    "scrolled": true
   },
   "outputs": [
    {
     "data": {
      "text/plain": [
       "['firstinhibitor',\n",
       " 'firstbaron',\n",
       " 'firsttower',\n",
       " 'firstdragon',\n",
       " 'firstblood',\n",
       " 'firstriftherald',\n",
       " 'champ40',\n",
       " 'champ236',\n",
       " 'champ81',\n",
       " 'champ111']"
      ]
     },
     "execution_count": 38,
     "metadata": {},
     "output_type": "execute_result"
    }
   ],
   "source": [
    "getTopFeatures(mrfc.feature_importances_, 10, headers)"
   ]
  },
  {
   "cell_type": "code",
   "execution_count": 39,
   "metadata": {
    "collapsed": false
   },
   "outputs": [
    {
     "data": {
      "text/plain": [
       "'Janna'"
      ]
     },
     "execution_count": 39,
     "metadata": {},
     "output_type": "execute_result"
    }
   ],
   "source": [
    "champids[\"40\"]"
   ]
  },
  {
   "cell_type": "markdown",
   "metadata": {},
   "source": [
    "### Polynomial 5 Kernel"
   ]
  },
  {
   "cell_type": "code",
   "execution_count": 40,
   "metadata": {
    "collapsed": false
   },
   "outputs": [
    {
     "name": "stdout",
     "output_type": "stream",
     "text": [
      "Got 1837 right out of 2123. 86.53%\n"
     ]
    }
   ],
   "source": [
    "x, y = mx, my\n",
    "sp = msp\n",
    "klf = SVC(kernel=\"poly\", degree=5, C=20, gamma=10)\n",
    "# klf = grid_search.GridSearchCV(klf, {\"kernel\":(\"poly\",), \"C\": [1, 50, 100], \"gamma\": [1, 2, 5, 10, 100]})\n",
    "klf.fit(x[:sp], y[:sp])\n",
    "mk = testRight(klf, x[sp:], y[sp:])"
   ]
  },
  {
   "cell_type": "markdown",
   "metadata": {},
   "source": [
    "# Challenger Data"
   ]
  },
  {
   "cell_type": "markdown",
   "metadata": {},
   "source": [
    "### Linear SVM"
   ]
  },
  {
   "cell_type": "code",
   "execution_count": 42,
   "metadata": {
    "collapsed": false
   },
   "outputs": [
    {
     "name": "stdout",
     "output_type": "stream",
     "text": [
      "Got 731 right out of 841. 86.92%\n"
     ]
    }
   ],
   "source": [
    "x, y, headers = getData(\"challenger.csv\")\n",
    "cx, cy = x, y\n",
    "sp = int(len(x) * .6)\n",
    "csp = sp\n",
    "clf = SVC(kernel=\"linear\", degree=1, gamma=3, C=20)\n",
    "# clf = grid_search.GridSearchCV(clf, {\"kernel\":(\"linear\",), \"C\": [1, 10, 20], \"gamma\": [1, 50, 100]})\n",
    "cclf = clf\n",
    "clf.fit(x[:sp], y[:sp])\n",
    "clsvm = testRight(clf, x[sp:], y[sp:])"
   ]
  },
  {
   "cell_type": "markdown",
   "metadata": {},
   "source": [
    "### Random Forest"
   ]
  },
  {
   "cell_type": "code",
   "execution_count": 43,
   "metadata": {
    "collapsed": false
   },
   "outputs": [
    {
     "name": "stdout",
     "output_type": "stream",
     "text": [
      "Got 739 right out of 841. 87.87%\n"
     ]
    }
   ],
   "source": [
    "crfc = rfc(n_estimators=100, max_features=\"sqrt\", max_depth=15)\n",
    "x, y = cx, cy\n",
    "clf_forest = crfc\n",
    "sp = csp\n",
    "clf_forest.fit(x[:sp], y[:sp])\n",
    "crf = testRight(clf_forest, x[sp:], y[sp:])"
   ]
  },
  {
   "cell_type": "code",
   "execution_count": 44,
   "metadata": {
    "collapsed": false
   },
   "outputs": [
    {
     "data": {
      "text/plain": [
       "['firstinhibitor',\n",
       " 'firstbaron',\n",
       " 'firsttower',\n",
       " 'firstdragon',\n",
       " 'firstriftherald',\n",
       " 'firstblood',\n",
       " 'champ236',\n",
       " 'champ60',\n",
       " 'champ40',\n",
       " 'champ111']"
      ]
     },
     "execution_count": 44,
     "metadata": {},
     "output_type": "execute_result"
    }
   ],
   "source": [
    "getTopFeatures(crfc.feature_importances_, 10, headers)"
   ]
  },
  {
   "cell_type": "markdown",
   "metadata": {},
   "source": [
    "### Polynomial 5 Kernel"
   ]
  },
  {
   "cell_type": "code",
   "execution_count": 76,
   "metadata": {
    "collapsed": false
   },
   "outputs": [
    {
     "name": "stdout",
     "output_type": "stream",
     "text": [
      "Got 663 right out of 841. 78.83%\n"
     ]
    }
   ],
   "source": [
    "x, y = cx, cy\n",
    "sp = csp\n",
    "klf = SVC(kernel=\"poly\", degree=5, C=1, gamma=10)\n",
    "# klf = grid_search.GridSearchCV(klf, {\"kernel\":(\"poly\",), \"degree\": (1,2,3,4,5), \"C\": [1, 50, 100], \"gamma\": [1, 10, 100]})\n",
    "klf.fit(x[:sp], y[:sp])\n",
    "ck = testRight(klf, x[sp:], y[sp:])"
   ]
  },
  {
   "cell_type": "markdown",
   "metadata": {},
   "source": [
    "# Plotting some data"
   ]
  },
  {
   "cell_type": "code",
   "execution_count": 111,
   "metadata": {
    "collapsed": true
   },
   "outputs": [],
   "source": [
    "% matplotlib inline\n",
    "# % matplotlib qt"
   ]
  },
  {
   "cell_type": "code",
   "execution_count": 82,
   "metadata": {
    "collapsed": true
   },
   "outputs": [],
   "source": [
    "accuracies = [blsvm, brf, bk, slsvm, srf, sk, glsvm, grf, gk, plsvm, prf, pk, dlsvm, drf, dk, mlsvm, mrf, mk, clsvm, crf, ck]\n",
    "svm_acc = [accuracies[i] for i in range(0, len(accuracies), 3)]\n",
    "rf_acc = [accuracies[i] for i in range(1, len(accuracies), 3)]\n",
    "k_acc = [accuracies[i] for i in range(2, len(accuracies), 3)]"
   ]
  },
  {
   "cell_type": "code",
   "execution_count": 112,
   "metadata": {
    "collapsed": false
   },
   "outputs": [
    {
     "data": {
      "image/png": "[encoded data removed]",
      "text/plain": [
       "<matplotlib.figure.Figure at 0x2db478d0>"
      ]
     },
     "metadata": {},
     "output_type": "display_data"
    }
   ],
   "source": [
    "N = 7\n",
    "ind = np.arange(N)\n",
    "width = .25\n",
    "\n",
    "fig, ax = plt.subplots()\n",
    "rects1 = ax.bar(ind, svm_acc, width)\n",
    "rects2 = ax.bar(ind + width, rf_acc, width, color=\"#aa80ff\")\n",
    "rects3 = ax.bar(ind + 2*width, k_acc, width, color=\"#33cccc\")\n",
    "\n",
    "ax.set_ylabel(\"Accuracies (%)\")\n",
    "ax.set_title(\"Comparing Different Classifiers\")\n",
    "ax.set_xticks(ind + 1.5*width)\n",
    "ax.set_xticklabels((\"B\", \"S\", \"G\", \"P\", \"D\", \"M\", \"C\"))\n",
    "ax.set_ylim([75,94])\n",
    "\n",
    "ax.legend((rects1[0], rects2[0], rects3[0]), (\"Linear SVM\", \"Random Forest\", \"SVM with Kernel\"))\n",
    "\n",
    "plt.show()"
   ]
  },
  {
   "cell_type": "code",
   "execution_count": null,
   "metadata": {
    "collapsed": true
   },
   "outputs": [],
   "source": []
  }
 ],
 "metadata": {
  "kernelspec": {
   "display_name": "Python 2",
   "language": "python",
   "name": "python2"
  },
  "language_info": {
   "codemirror_mode": {
    "name": "ipython",
    "version": 2
   },
   "file_extension": ".py",
   "mimetype": "text/x-python",
   "name": "python",
   "nbconvert_exporter": "python",
   "pygments_lexer": "ipython2",
   "version": "2.7.11"
  }
 },
 "nbformat": 4,
 "nbformat_minor": 0
}
